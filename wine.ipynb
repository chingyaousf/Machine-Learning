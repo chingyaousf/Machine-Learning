{
  "nbformat": 4,
  "nbformat_minor": 0,
  "metadata": {
    "colab": {
      "provenance": [],
      "mount_file_id": "1IVR1Nh8rPSQLls-as8IEU-7YefkPICoe",
      "authorship_tag": "ABX9TyP0wdIJCGf4aLStVL+fSkW5",
      "include_colab_link": true
    },
    "kernelspec": {
      "name": "python3",
      "display_name": "Python 3"
    },
    "language_info": {
      "name": "python"
    }
  },
  "cells": [
    {
      "cell_type": "markdown",
      "metadata": {
        "id": "view-in-github",
        "colab_type": "text"
      },
      "source": [
        "<a href=\"https://colab.research.google.com/github/chingyaousf/Machine-Learning/blob/main/wine.ipynb\" target=\"_parent\"><img src=\"https://colab.research.google.com/assets/colab-badge.svg\" alt=\"Open In Colab\"/></a>"
      ]
    },
    {
      "cell_type": "code",
      "execution_count": 1,
      "metadata": {
        "id": "1BQ6dc2smLah"
      },
      "outputs": [],
      "source": [
        "import numpy as np\n",
        "import pandas as pd\n",
        "import sklearn "
      ]
    },
    {
      "cell_type": "markdown",
      "source": [
        "**Loading files using Pandas**"
      ],
      "metadata": {
        "id": "h9HdSvzbJP3G"
      }
    },
    {
      "cell_type": "code",
      "source": [
        "data = pd.read_csv(\"/content/drive/MyDrive/Colab Notebooks/wine.csv\")"
      ],
      "metadata": {
        "id": "Ki5X9tAKAcwy"
      },
      "execution_count": 2,
      "outputs": []
    },
    {
      "cell_type": "markdown",
      "source": [
        "**Show data**"
      ],
      "metadata": {
        "id": "Z2InzF2ZJzlz"
      }
    },
    {
      "cell_type": "code",
      "source": [
        "data"
      ],
      "metadata": {
        "colab": {
          "base_uri": "https://localhost:8080/",
          "height": 424
        },
        "id": "UdnRZY-fJ1zm",
        "outputId": "b81a5f79-258c-4872-b38f-ffe974c89c40"
      },
      "execution_count": 3,
      "outputs": [
        {
          "output_type": "execute_result",
          "data": {
            "text/plain": [
              "     Class  Alcohol  Malicacid   Ash  Alcalinity  Magnesium  Totalphenols  \\\n",
              "0    Type1    14.23       1.71  2.43        15.6        127          2.80   \n",
              "1    Type1    13.20       1.78  2.14        11.2        100          2.65   \n",
              "2    Type1    13.16       2.36  2.67        18.6        101          2.80   \n",
              "3    Type1    14.37       1.95  2.50        16.8        113          3.85   \n",
              "4    Type1    13.24       2.59  2.87        21.0        118          2.80   \n",
              "..     ...      ...        ...   ...         ...        ...           ...   \n",
              "173  Type3    13.71       5.65  2.45        20.5         95          1.68   \n",
              "174  Type3    13.40       3.91  2.48        23.0        102          1.80   \n",
              "175  Type3    13.27       4.28  2.26        20.0        120          1.59   \n",
              "176  Type3    13.17       2.59  2.37        20.0        120          1.65   \n",
              "177  Type3    14.13       4.10  2.74        24.5         96          2.05   \n",
              "\n",
              "     Flavanoids  Nonflavanoid  Proanthocyanins  Colorintensity   Hue    OD  \\\n",
              "0          3.06          0.28             2.29            5.64  1.04  3.92   \n",
              "1          2.76          0.26             1.28            4.38  1.05  3.40   \n",
              "2          3.24          0.30             2.81            5.68  1.03  3.17   \n",
              "3          3.49          0.24             2.18            7.80  0.86  3.45   \n",
              "4          2.69          0.39             1.82            4.32  1.04  2.93   \n",
              "..          ...           ...              ...             ...   ...   ...   \n",
              "173        0.61          0.52             1.06            7.70  0.64  1.74   \n",
              "174        0.75          0.43             1.41            7.30  0.70  1.56   \n",
              "175        0.69          0.43             1.35           10.20  0.59  1.56   \n",
              "176        0.68          0.53             1.46            9.30  0.60  1.62   \n",
              "177        0.76          0.56             1.35            9.20  0.61  1.60   \n",
              "\n",
              "     Proline  \n",
              "0       1065  \n",
              "1       1050  \n",
              "2       1185  \n",
              "3       1480  \n",
              "4        735  \n",
              "..       ...  \n",
              "173      740  \n",
              "174      750  \n",
              "175      835  \n",
              "176      840  \n",
              "177      560  \n",
              "\n",
              "[178 rows x 14 columns]"
            ],
            "text/html": [
              "\n",
              "  <div id=\"df-86e7a0ae-9d78-405b-8738-f90f5410148d\">\n",
              "    <div class=\"colab-df-container\">\n",
              "      <div>\n",
              "<style scoped>\n",
              "    .dataframe tbody tr th:only-of-type {\n",
              "        vertical-align: middle;\n",
              "    }\n",
              "\n",
              "    .dataframe tbody tr th {\n",
              "        vertical-align: top;\n",
              "    }\n",
              "\n",
              "    .dataframe thead th {\n",
              "        text-align: right;\n",
              "    }\n",
              "</style>\n",
              "<table border=\"1\" class=\"dataframe\">\n",
              "  <thead>\n",
              "    <tr style=\"text-align: right;\">\n",
              "      <th></th>\n",
              "      <th>Class</th>\n",
              "      <th>Alcohol</th>\n",
              "      <th>Malicacid</th>\n",
              "      <th>Ash</th>\n",
              "      <th>Alcalinity</th>\n",
              "      <th>Magnesium</th>\n",
              "      <th>Totalphenols</th>\n",
              "      <th>Flavanoids</th>\n",
              "      <th>Nonflavanoid</th>\n",
              "      <th>Proanthocyanins</th>\n",
              "      <th>Colorintensity</th>\n",
              "      <th>Hue</th>\n",
              "      <th>OD</th>\n",
              "      <th>Proline</th>\n",
              "    </tr>\n",
              "  </thead>\n",
              "  <tbody>\n",
              "    <tr>\n",
              "      <th>0</th>\n",
              "      <td>Type1</td>\n",
              "      <td>14.23</td>\n",
              "      <td>1.71</td>\n",
              "      <td>2.43</td>\n",
              "      <td>15.6</td>\n",
              "      <td>127</td>\n",
              "      <td>2.80</td>\n",
              "      <td>3.06</td>\n",
              "      <td>0.28</td>\n",
              "      <td>2.29</td>\n",
              "      <td>5.64</td>\n",
              "      <td>1.04</td>\n",
              "      <td>3.92</td>\n",
              "      <td>1065</td>\n",
              "    </tr>\n",
              "    <tr>\n",
              "      <th>1</th>\n",
              "      <td>Type1</td>\n",
              "      <td>13.20</td>\n",
              "      <td>1.78</td>\n",
              "      <td>2.14</td>\n",
              "      <td>11.2</td>\n",
              "      <td>100</td>\n",
              "      <td>2.65</td>\n",
              "      <td>2.76</td>\n",
              "      <td>0.26</td>\n",
              "      <td>1.28</td>\n",
              "      <td>4.38</td>\n",
              "      <td>1.05</td>\n",
              "      <td>3.40</td>\n",
              "      <td>1050</td>\n",
              "    </tr>\n",
              "    <tr>\n",
              "      <th>2</th>\n",
              "      <td>Type1</td>\n",
              "      <td>13.16</td>\n",
              "      <td>2.36</td>\n",
              "      <td>2.67</td>\n",
              "      <td>18.6</td>\n",
              "      <td>101</td>\n",
              "      <td>2.80</td>\n",
              "      <td>3.24</td>\n",
              "      <td>0.30</td>\n",
              "      <td>2.81</td>\n",
              "      <td>5.68</td>\n",
              "      <td>1.03</td>\n",
              "      <td>3.17</td>\n",
              "      <td>1185</td>\n",
              "    </tr>\n",
              "    <tr>\n",
              "      <th>3</th>\n",
              "      <td>Type1</td>\n",
              "      <td>14.37</td>\n",
              "      <td>1.95</td>\n",
              "      <td>2.50</td>\n",
              "      <td>16.8</td>\n",
              "      <td>113</td>\n",
              "      <td>3.85</td>\n",
              "      <td>3.49</td>\n",
              "      <td>0.24</td>\n",
              "      <td>2.18</td>\n",
              "      <td>7.80</td>\n",
              "      <td>0.86</td>\n",
              "      <td>3.45</td>\n",
              "      <td>1480</td>\n",
              "    </tr>\n",
              "    <tr>\n",
              "      <th>4</th>\n",
              "      <td>Type1</td>\n",
              "      <td>13.24</td>\n",
              "      <td>2.59</td>\n",
              "      <td>2.87</td>\n",
              "      <td>21.0</td>\n",
              "      <td>118</td>\n",
              "      <td>2.80</td>\n",
              "      <td>2.69</td>\n",
              "      <td>0.39</td>\n",
              "      <td>1.82</td>\n",
              "      <td>4.32</td>\n",
              "      <td>1.04</td>\n",
              "      <td>2.93</td>\n",
              "      <td>735</td>\n",
              "    </tr>\n",
              "    <tr>\n",
              "      <th>...</th>\n",
              "      <td>...</td>\n",
              "      <td>...</td>\n",
              "      <td>...</td>\n",
              "      <td>...</td>\n",
              "      <td>...</td>\n",
              "      <td>...</td>\n",
              "      <td>...</td>\n",
              "      <td>...</td>\n",
              "      <td>...</td>\n",
              "      <td>...</td>\n",
              "      <td>...</td>\n",
              "      <td>...</td>\n",
              "      <td>...</td>\n",
              "      <td>...</td>\n",
              "    </tr>\n",
              "    <tr>\n",
              "      <th>173</th>\n",
              "      <td>Type3</td>\n",
              "      <td>13.71</td>\n",
              "      <td>5.65</td>\n",
              "      <td>2.45</td>\n",
              "      <td>20.5</td>\n",
              "      <td>95</td>\n",
              "      <td>1.68</td>\n",
              "      <td>0.61</td>\n",
              "      <td>0.52</td>\n",
              "      <td>1.06</td>\n",
              "      <td>7.70</td>\n",
              "      <td>0.64</td>\n",
              "      <td>1.74</td>\n",
              "      <td>740</td>\n",
              "    </tr>\n",
              "    <tr>\n",
              "      <th>174</th>\n",
              "      <td>Type3</td>\n",
              "      <td>13.40</td>\n",
              "      <td>3.91</td>\n",
              "      <td>2.48</td>\n",
              "      <td>23.0</td>\n",
              "      <td>102</td>\n",
              "      <td>1.80</td>\n",
              "      <td>0.75</td>\n",
              "      <td>0.43</td>\n",
              "      <td>1.41</td>\n",
              "      <td>7.30</td>\n",
              "      <td>0.70</td>\n",
              "      <td>1.56</td>\n",
              "      <td>750</td>\n",
              "    </tr>\n",
              "    <tr>\n",
              "      <th>175</th>\n",
              "      <td>Type3</td>\n",
              "      <td>13.27</td>\n",
              "      <td>4.28</td>\n",
              "      <td>2.26</td>\n",
              "      <td>20.0</td>\n",
              "      <td>120</td>\n",
              "      <td>1.59</td>\n",
              "      <td>0.69</td>\n",
              "      <td>0.43</td>\n",
              "      <td>1.35</td>\n",
              "      <td>10.20</td>\n",
              "      <td>0.59</td>\n",
              "      <td>1.56</td>\n",
              "      <td>835</td>\n",
              "    </tr>\n",
              "    <tr>\n",
              "      <th>176</th>\n",
              "      <td>Type3</td>\n",
              "      <td>13.17</td>\n",
              "      <td>2.59</td>\n",
              "      <td>2.37</td>\n",
              "      <td>20.0</td>\n",
              "      <td>120</td>\n",
              "      <td>1.65</td>\n",
              "      <td>0.68</td>\n",
              "      <td>0.53</td>\n",
              "      <td>1.46</td>\n",
              "      <td>9.30</td>\n",
              "      <td>0.60</td>\n",
              "      <td>1.62</td>\n",
              "      <td>840</td>\n",
              "    </tr>\n",
              "    <tr>\n",
              "      <th>177</th>\n",
              "      <td>Type3</td>\n",
              "      <td>14.13</td>\n",
              "      <td>4.10</td>\n",
              "      <td>2.74</td>\n",
              "      <td>24.5</td>\n",
              "      <td>96</td>\n",
              "      <td>2.05</td>\n",
              "      <td>0.76</td>\n",
              "      <td>0.56</td>\n",
              "      <td>1.35</td>\n",
              "      <td>9.20</td>\n",
              "      <td>0.61</td>\n",
              "      <td>1.60</td>\n",
              "      <td>560</td>\n",
              "    </tr>\n",
              "  </tbody>\n",
              "</table>\n",
              "<p>178 rows × 14 columns</p>\n",
              "</div>\n",
              "      <button class=\"colab-df-convert\" onclick=\"convertToInteractive('df-86e7a0ae-9d78-405b-8738-f90f5410148d')\"\n",
              "              title=\"Convert this dataframe to an interactive table.\"\n",
              "              style=\"display:none;\">\n",
              "        \n",
              "  <svg xmlns=\"http://www.w3.org/2000/svg\" height=\"24px\"viewBox=\"0 0 24 24\"\n",
              "       width=\"24px\">\n",
              "    <path d=\"M0 0h24v24H0V0z\" fill=\"none\"/>\n",
              "    <path d=\"M18.56 5.44l.94 2.06.94-2.06 2.06-.94-2.06-.94-.94-2.06-.94 2.06-2.06.94zm-11 1L8.5 8.5l.94-2.06 2.06-.94-2.06-.94L8.5 2.5l-.94 2.06-2.06.94zm10 10l.94 2.06.94-2.06 2.06-.94-2.06-.94-.94-2.06-.94 2.06-2.06.94z\"/><path d=\"M17.41 7.96l-1.37-1.37c-.4-.4-.92-.59-1.43-.59-.52 0-1.04.2-1.43.59L10.3 9.45l-7.72 7.72c-.78.78-.78 2.05 0 2.83L4 21.41c.39.39.9.59 1.41.59.51 0 1.02-.2 1.41-.59l7.78-7.78 2.81-2.81c.8-.78.8-2.07 0-2.86zM5.41 20L4 18.59l7.72-7.72 1.47 1.35L5.41 20z\"/>\n",
              "  </svg>\n",
              "      </button>\n",
              "      \n",
              "  <style>\n",
              "    .colab-df-container {\n",
              "      display:flex;\n",
              "      flex-wrap:wrap;\n",
              "      gap: 12px;\n",
              "    }\n",
              "\n",
              "    .colab-df-convert {\n",
              "      background-color: #E8F0FE;\n",
              "      border: none;\n",
              "      border-radius: 50%;\n",
              "      cursor: pointer;\n",
              "      display: none;\n",
              "      fill: #1967D2;\n",
              "      height: 32px;\n",
              "      padding: 0 0 0 0;\n",
              "      width: 32px;\n",
              "    }\n",
              "\n",
              "    .colab-df-convert:hover {\n",
              "      background-color: #E2EBFA;\n",
              "      box-shadow: 0px 1px 2px rgba(60, 64, 67, 0.3), 0px 1px 3px 1px rgba(60, 64, 67, 0.15);\n",
              "      fill: #174EA6;\n",
              "    }\n",
              "\n",
              "    [theme=dark] .colab-df-convert {\n",
              "      background-color: #3B4455;\n",
              "      fill: #D2E3FC;\n",
              "    }\n",
              "\n",
              "    [theme=dark] .colab-df-convert:hover {\n",
              "      background-color: #434B5C;\n",
              "      box-shadow: 0px 1px 3px 1px rgba(0, 0, 0, 0.15);\n",
              "      filter: drop-shadow(0px 1px 2px rgba(0, 0, 0, 0.3));\n",
              "      fill: #FFFFFF;\n",
              "    }\n",
              "  </style>\n",
              "\n",
              "      <script>\n",
              "        const buttonEl =\n",
              "          document.querySelector('#df-86e7a0ae-9d78-405b-8738-f90f5410148d button.colab-df-convert');\n",
              "        buttonEl.style.display =\n",
              "          google.colab.kernel.accessAllowed ? 'block' : 'none';\n",
              "\n",
              "        async function convertToInteractive(key) {\n",
              "          const element = document.querySelector('#df-86e7a0ae-9d78-405b-8738-f90f5410148d');\n",
              "          const dataTable =\n",
              "            await google.colab.kernel.invokeFunction('convertToInteractive',\n",
              "                                                     [key], {});\n",
              "          if (!dataTable) return;\n",
              "\n",
              "          const docLinkHtml = 'Like what you see? Visit the ' +\n",
              "            '<a target=\"_blank\" href=https://colab.research.google.com/notebooks/data_table.ipynb>data table notebook</a>'\n",
              "            + ' to learn more about interactive tables.';\n",
              "          element.innerHTML = '';\n",
              "          dataTable['output_type'] = 'display_data';\n",
              "          await google.colab.output.renderOutput(dataTable, element);\n",
              "          const docLink = document.createElement('div');\n",
              "          docLink.innerHTML = docLinkHtml;\n",
              "          element.appendChild(docLink);\n",
              "        }\n",
              "      </script>\n",
              "    </div>\n",
              "  </div>\n",
              "  "
            ]
          },
          "metadata": {},
          "execution_count": 3
        }
      ]
    },
    {
      "cell_type": "markdown",
      "source": [
        "**split dataset in features and target variable**"
      ],
      "metadata": {
        "id": "vw_Sly0TJ4mL"
      }
    },
    {
      "cell_type": "code",
      "source": [
        "features = [\"Alcohol\", \"Malicacid\", \"Ash\", \"Alcalinity\", \"Magnesium\",\t\"Totalphenols\",\t\"Flavanoids\",\t\"Nonflavanoid\",\t\"Proanthocyanins\", \"Colorintensity\",\t\"Hue\",\t\"OD\",\t\"Proline\"]\n",
        "x = data[features] #feature variable\n",
        "y = data[\"Class\"] #target variable"
      ],
      "metadata": {
        "id": "89SohAt_mYA2"
      },
      "execution_count": 4,
      "outputs": []
    },
    {
      "cell_type": "code",
      "source": [
        "from sklearn.tree import  DecisionTreeClassifier\n",
        "from sklearn.model_selection import train_test_split\n",
        "from sklearn import metrics"
      ],
      "metadata": {
        "id": "B-aJa1eIoCm7"
      },
      "execution_count": 5,
      "outputs": []
    },
    {
      "cell_type": "markdown",
      "source": [
        "**Split dataset into training set and test set**"
      ],
      "metadata": {
        "id": "lxkE0xFKKJTC"
      }
    },
    {
      "cell_type": "code",
      "source": [
        "from pandas.core.common import random_state\n",
        "x_train, x_test, y_train, y_test = train_test_split(x, y, test_size=0.3, random_state=1)\n",
        "x_train"
      ],
      "metadata": {
        "colab": {
          "base_uri": "https://localhost:8080/",
          "height": 424
        },
        "id": "FxO2ZLKfpi4v",
        "outputId": "0ad76ad5-b652-4ab9-812f-d2b9e1de724f"
      },
      "execution_count": 6,
      "outputs": [
        {
          "output_type": "execute_result",
          "data": {
            "text/plain": [
              "     Alcohol  Malicacid   Ash  Alcalinity  Magnesium  Totalphenols  \\\n",
              "90     12.08       1.83  2.32        18.5         81          1.60   \n",
              "95     12.47       1.52  2.20        19.0        162          2.50   \n",
              "28     13.87       1.90  2.80        19.4        107          2.95   \n",
              "124    11.87       4.31  2.39        21.0         82          2.86   \n",
              "135    12.60       2.46  2.20        18.5         94          1.62   \n",
              "..       ...        ...   ...         ...        ...           ...   \n",
              "133    12.70       3.55  2.36        21.5        106          1.70   \n",
              "137    12.53       5.51  2.64        25.0         96          1.79   \n",
              "72     13.49       1.66  2.24        24.0         87          1.88   \n",
              "140    12.93       2.81  2.70        21.0         96          1.54   \n",
              "37     13.05       1.65  2.55        18.0         98          2.45   \n",
              "\n",
              "     Flavanoids  Nonflavanoid  Proanthocyanins  Colorintensity   Hue    OD  \\\n",
              "90         1.50          0.52             1.64            2.40  1.08  2.27   \n",
              "95         2.27          0.32             3.28            2.60  1.16  2.63   \n",
              "28         2.97          0.37             1.76            4.50  1.25  3.40   \n",
              "124        3.03          0.21             2.91            2.80  0.75  3.64   \n",
              "135        0.66          0.63             0.94            7.10  0.73  1.58   \n",
              "..          ...           ...              ...             ...   ...   ...   \n",
              "133        1.20          0.17             0.84            5.00  0.78  1.29   \n",
              "137        0.60          0.63             1.10            5.00  0.82  1.69   \n",
              "72         1.84          0.27             1.03            3.74  0.98  2.78   \n",
              "140        0.50          0.53             0.75            4.60  0.77  2.31   \n",
              "37         2.43          0.29             1.44            4.25  1.12  2.51   \n",
              "\n",
              "     Proline  \n",
              "90       480  \n",
              "95       937  \n",
              "28       915  \n",
              "124      380  \n",
              "135      695  \n",
              "..       ...  \n",
              "133      600  \n",
              "137      515  \n",
              "72       472  \n",
              "140      600  \n",
              "37      1105  \n",
              "\n",
              "[124 rows x 13 columns]"
            ],
            "text/html": [
              "\n",
              "  <div id=\"df-53da7886-4824-42dc-91ae-3d5dd404562d\">\n",
              "    <div class=\"colab-df-container\">\n",
              "      <div>\n",
              "<style scoped>\n",
              "    .dataframe tbody tr th:only-of-type {\n",
              "        vertical-align: middle;\n",
              "    }\n",
              "\n",
              "    .dataframe tbody tr th {\n",
              "        vertical-align: top;\n",
              "    }\n",
              "\n",
              "    .dataframe thead th {\n",
              "        text-align: right;\n",
              "    }\n",
              "</style>\n",
              "<table border=\"1\" class=\"dataframe\">\n",
              "  <thead>\n",
              "    <tr style=\"text-align: right;\">\n",
              "      <th></th>\n",
              "      <th>Alcohol</th>\n",
              "      <th>Malicacid</th>\n",
              "      <th>Ash</th>\n",
              "      <th>Alcalinity</th>\n",
              "      <th>Magnesium</th>\n",
              "      <th>Totalphenols</th>\n",
              "      <th>Flavanoids</th>\n",
              "      <th>Nonflavanoid</th>\n",
              "      <th>Proanthocyanins</th>\n",
              "      <th>Colorintensity</th>\n",
              "      <th>Hue</th>\n",
              "      <th>OD</th>\n",
              "      <th>Proline</th>\n",
              "    </tr>\n",
              "  </thead>\n",
              "  <tbody>\n",
              "    <tr>\n",
              "      <th>90</th>\n",
              "      <td>12.08</td>\n",
              "      <td>1.83</td>\n",
              "      <td>2.32</td>\n",
              "      <td>18.5</td>\n",
              "      <td>81</td>\n",
              "      <td>1.60</td>\n",
              "      <td>1.50</td>\n",
              "      <td>0.52</td>\n",
              "      <td>1.64</td>\n",
              "      <td>2.40</td>\n",
              "      <td>1.08</td>\n",
              "      <td>2.27</td>\n",
              "      <td>480</td>\n",
              "    </tr>\n",
              "    <tr>\n",
              "      <th>95</th>\n",
              "      <td>12.47</td>\n",
              "      <td>1.52</td>\n",
              "      <td>2.20</td>\n",
              "      <td>19.0</td>\n",
              "      <td>162</td>\n",
              "      <td>2.50</td>\n",
              "      <td>2.27</td>\n",
              "      <td>0.32</td>\n",
              "      <td>3.28</td>\n",
              "      <td>2.60</td>\n",
              "      <td>1.16</td>\n",
              "      <td>2.63</td>\n",
              "      <td>937</td>\n",
              "    </tr>\n",
              "    <tr>\n",
              "      <th>28</th>\n",
              "      <td>13.87</td>\n",
              "      <td>1.90</td>\n",
              "      <td>2.80</td>\n",
              "      <td>19.4</td>\n",
              "      <td>107</td>\n",
              "      <td>2.95</td>\n",
              "      <td>2.97</td>\n",
              "      <td>0.37</td>\n",
              "      <td>1.76</td>\n",
              "      <td>4.50</td>\n",
              "      <td>1.25</td>\n",
              "      <td>3.40</td>\n",
              "      <td>915</td>\n",
              "    </tr>\n",
              "    <tr>\n",
              "      <th>124</th>\n",
              "      <td>11.87</td>\n",
              "      <td>4.31</td>\n",
              "      <td>2.39</td>\n",
              "      <td>21.0</td>\n",
              "      <td>82</td>\n",
              "      <td>2.86</td>\n",
              "      <td>3.03</td>\n",
              "      <td>0.21</td>\n",
              "      <td>2.91</td>\n",
              "      <td>2.80</td>\n",
              "      <td>0.75</td>\n",
              "      <td>3.64</td>\n",
              "      <td>380</td>\n",
              "    </tr>\n",
              "    <tr>\n",
              "      <th>135</th>\n",
              "      <td>12.60</td>\n",
              "      <td>2.46</td>\n",
              "      <td>2.20</td>\n",
              "      <td>18.5</td>\n",
              "      <td>94</td>\n",
              "      <td>1.62</td>\n",
              "      <td>0.66</td>\n",
              "      <td>0.63</td>\n",
              "      <td>0.94</td>\n",
              "      <td>7.10</td>\n",
              "      <td>0.73</td>\n",
              "      <td>1.58</td>\n",
              "      <td>695</td>\n",
              "    </tr>\n",
              "    <tr>\n",
              "      <th>...</th>\n",
              "      <td>...</td>\n",
              "      <td>...</td>\n",
              "      <td>...</td>\n",
              "      <td>...</td>\n",
              "      <td>...</td>\n",
              "      <td>...</td>\n",
              "      <td>...</td>\n",
              "      <td>...</td>\n",
              "      <td>...</td>\n",
              "      <td>...</td>\n",
              "      <td>...</td>\n",
              "      <td>...</td>\n",
              "      <td>...</td>\n",
              "    </tr>\n",
              "    <tr>\n",
              "      <th>133</th>\n",
              "      <td>12.70</td>\n",
              "      <td>3.55</td>\n",
              "      <td>2.36</td>\n",
              "      <td>21.5</td>\n",
              "      <td>106</td>\n",
              "      <td>1.70</td>\n",
              "      <td>1.20</td>\n",
              "      <td>0.17</td>\n",
              "      <td>0.84</td>\n",
              "      <td>5.00</td>\n",
              "      <td>0.78</td>\n",
              "      <td>1.29</td>\n",
              "      <td>600</td>\n",
              "    </tr>\n",
              "    <tr>\n",
              "      <th>137</th>\n",
              "      <td>12.53</td>\n",
              "      <td>5.51</td>\n",
              "      <td>2.64</td>\n",
              "      <td>25.0</td>\n",
              "      <td>96</td>\n",
              "      <td>1.79</td>\n",
              "      <td>0.60</td>\n",
              "      <td>0.63</td>\n",
              "      <td>1.10</td>\n",
              "      <td>5.00</td>\n",
              "      <td>0.82</td>\n",
              "      <td>1.69</td>\n",
              "      <td>515</td>\n",
              "    </tr>\n",
              "    <tr>\n",
              "      <th>72</th>\n",
              "      <td>13.49</td>\n",
              "      <td>1.66</td>\n",
              "      <td>2.24</td>\n",
              "      <td>24.0</td>\n",
              "      <td>87</td>\n",
              "      <td>1.88</td>\n",
              "      <td>1.84</td>\n",
              "      <td>0.27</td>\n",
              "      <td>1.03</td>\n",
              "      <td>3.74</td>\n",
              "      <td>0.98</td>\n",
              "      <td>2.78</td>\n",
              "      <td>472</td>\n",
              "    </tr>\n",
              "    <tr>\n",
              "      <th>140</th>\n",
              "      <td>12.93</td>\n",
              "      <td>2.81</td>\n",
              "      <td>2.70</td>\n",
              "      <td>21.0</td>\n",
              "      <td>96</td>\n",
              "      <td>1.54</td>\n",
              "      <td>0.50</td>\n",
              "      <td>0.53</td>\n",
              "      <td>0.75</td>\n",
              "      <td>4.60</td>\n",
              "      <td>0.77</td>\n",
              "      <td>2.31</td>\n",
              "      <td>600</td>\n",
              "    </tr>\n",
              "    <tr>\n",
              "      <th>37</th>\n",
              "      <td>13.05</td>\n",
              "      <td>1.65</td>\n",
              "      <td>2.55</td>\n",
              "      <td>18.0</td>\n",
              "      <td>98</td>\n",
              "      <td>2.45</td>\n",
              "      <td>2.43</td>\n",
              "      <td>0.29</td>\n",
              "      <td>1.44</td>\n",
              "      <td>4.25</td>\n",
              "      <td>1.12</td>\n",
              "      <td>2.51</td>\n",
              "      <td>1105</td>\n",
              "    </tr>\n",
              "  </tbody>\n",
              "</table>\n",
              "<p>124 rows × 13 columns</p>\n",
              "</div>\n",
              "      <button class=\"colab-df-convert\" onclick=\"convertToInteractive('df-53da7886-4824-42dc-91ae-3d5dd404562d')\"\n",
              "              title=\"Convert this dataframe to an interactive table.\"\n",
              "              style=\"display:none;\">\n",
              "        \n",
              "  <svg xmlns=\"http://www.w3.org/2000/svg\" height=\"24px\"viewBox=\"0 0 24 24\"\n",
              "       width=\"24px\">\n",
              "    <path d=\"M0 0h24v24H0V0z\" fill=\"none\"/>\n",
              "    <path d=\"M18.56 5.44l.94 2.06.94-2.06 2.06-.94-2.06-.94-.94-2.06-.94 2.06-2.06.94zm-11 1L8.5 8.5l.94-2.06 2.06-.94-2.06-.94L8.5 2.5l-.94 2.06-2.06.94zm10 10l.94 2.06.94-2.06 2.06-.94-2.06-.94-.94-2.06-.94 2.06-2.06.94z\"/><path d=\"M17.41 7.96l-1.37-1.37c-.4-.4-.92-.59-1.43-.59-.52 0-1.04.2-1.43.59L10.3 9.45l-7.72 7.72c-.78.78-.78 2.05 0 2.83L4 21.41c.39.39.9.59 1.41.59.51 0 1.02-.2 1.41-.59l7.78-7.78 2.81-2.81c.8-.78.8-2.07 0-2.86zM5.41 20L4 18.59l7.72-7.72 1.47 1.35L5.41 20z\"/>\n",
              "  </svg>\n",
              "      </button>\n",
              "      \n",
              "  <style>\n",
              "    .colab-df-container {\n",
              "      display:flex;\n",
              "      flex-wrap:wrap;\n",
              "      gap: 12px;\n",
              "    }\n",
              "\n",
              "    .colab-df-convert {\n",
              "      background-color: #E8F0FE;\n",
              "      border: none;\n",
              "      border-radius: 50%;\n",
              "      cursor: pointer;\n",
              "      display: none;\n",
              "      fill: #1967D2;\n",
              "      height: 32px;\n",
              "      padding: 0 0 0 0;\n",
              "      width: 32px;\n",
              "    }\n",
              "\n",
              "    .colab-df-convert:hover {\n",
              "      background-color: #E2EBFA;\n",
              "      box-shadow: 0px 1px 2px rgba(60, 64, 67, 0.3), 0px 1px 3px 1px rgba(60, 64, 67, 0.15);\n",
              "      fill: #174EA6;\n",
              "    }\n",
              "\n",
              "    [theme=dark] .colab-df-convert {\n",
              "      background-color: #3B4455;\n",
              "      fill: #D2E3FC;\n",
              "    }\n",
              "\n",
              "    [theme=dark] .colab-df-convert:hover {\n",
              "      background-color: #434B5C;\n",
              "      box-shadow: 0px 1px 3px 1px rgba(0, 0, 0, 0.15);\n",
              "      filter: drop-shadow(0px 1px 2px rgba(0, 0, 0, 0.3));\n",
              "      fill: #FFFFFF;\n",
              "    }\n",
              "  </style>\n",
              "\n",
              "      <script>\n",
              "        const buttonEl =\n",
              "          document.querySelector('#df-53da7886-4824-42dc-91ae-3d5dd404562d button.colab-df-convert');\n",
              "        buttonEl.style.display =\n",
              "          google.colab.kernel.accessAllowed ? 'block' : 'none';\n",
              "\n",
              "        async function convertToInteractive(key) {\n",
              "          const element = document.querySelector('#df-53da7886-4824-42dc-91ae-3d5dd404562d');\n",
              "          const dataTable =\n",
              "            await google.colab.kernel.invokeFunction('convertToInteractive',\n",
              "                                                     [key], {});\n",
              "          if (!dataTable) return;\n",
              "\n",
              "          const docLinkHtml = 'Like what you see? Visit the ' +\n",
              "            '<a target=\"_blank\" href=https://colab.research.google.com/notebooks/data_table.ipynb>data table notebook</a>'\n",
              "            + ' to learn more about interactive tables.';\n",
              "          element.innerHTML = '';\n",
              "          dataTable['output_type'] = 'display_data';\n",
              "          await google.colab.output.renderOutput(dataTable, element);\n",
              "          const docLink = document.createElement('div');\n",
              "          docLink.innerHTML = docLinkHtml;\n",
              "          element.appendChild(docLink);\n",
              "        }\n",
              "      </script>\n",
              "    </div>\n",
              "  </div>\n",
              "  "
            ]
          },
          "metadata": {},
          "execution_count": 6
        }
      ]
    },
    {
      "cell_type": "markdown",
      "source": [
        "*Load* Data"
      ],
      "metadata": {
        "id": "HniBrlEQnL7g"
      }
    },
    {
      "cell_type": "markdown",
      "source": [
        "# * **Create Decision Tree classifer object** *"
      ],
      "metadata": {
        "id": "NHSrJR3_KcLa"
      }
    },
    {
      "cell_type": "code",
      "source": [
        "clf = DecisionTreeClassifier()"
      ],
      "metadata": {
        "id": "gcKAFvh2l7lo"
      },
      "execution_count": 7,
      "outputs": []
    },
    {
      "cell_type": "markdown",
      "source": [
        "**Train Decision Tree Classifer**"
      ],
      "metadata": {
        "id": "dUPVAgQ8KloZ"
      }
    },
    {
      "cell_type": "code",
      "source": [
        "clf = clf.fit(x_train,y_train)"
      ],
      "metadata": {
        "id": "Mc7I93wfs7ZE"
      },
      "execution_count": 8,
      "outputs": []
    },
    {
      "cell_type": "markdown",
      "source": [
        "**Predict the response for test dataset**"
      ],
      "metadata": {
        "id": "wnYisbHAKsvH"
      }
    },
    {
      "cell_type": "code",
      "source": [
        "y_pred = clf.predict(x_test)"
      ],
      "metadata": {
        "id": "U9l0ZSH0te8D"
      },
      "execution_count": 9,
      "outputs": []
    },
    {
      "cell_type": "markdown",
      "source": [
        "**Let's estimate, how accurately the classifier or model can predict the type of wine.**"
      ],
      "metadata": {
        "id": "sUe9SijwK6lB"
      }
    },
    {
      "cell_type": "code",
      "source": [
        "print(\"Accuracy:\",metrics.accuracy_score(y_test,y_pred))"
      ],
      "metadata": {
        "colab": {
          "base_uri": "https://localhost:8080/"
        },
        "id": "hKi3oxZeuF1g",
        "outputId": "f5778e7d-1e93-4e14-b00b-9ea346064a9e"
      },
      "execution_count": 10,
      "outputs": [
        {
          "output_type": "stream",
          "name": "stdout",
          "text": [
            "Accuracy: 0.9444444444444444\n"
          ]
        }
      ]
    },
    {
      "cell_type": "markdown",
      "source": [
        "# **Improving Performance**\n",
        "criterion : optional (default=”gini”) or Choose attribute selection measure\n",
        "max_depth : int or None, optional (default=None) or Maximum Depth of a Tree."
      ],
      "metadata": {
        "id": "7xFRRC3PLH_J"
      }
    },
    {
      "cell_type": "code",
      "source": [
        "clf = DecisionTreeClassifier(criterion=\"entropy\",max_depth=2)\n",
        "clf = clf.fit(x_train,y_train)\n",
        "y_pred = clf.predict(x_test)\n",
        "print(\"Accuracy:\",metrics.accuracy_score(y_test,y_pred))"
      ],
      "metadata": {
        "colab": {
          "base_uri": "https://localhost:8080/"
        },
        "id": "tIoZODA1ntZt",
        "outputId": "f801e439-2300-4de2-a198-a80ca8f4ecf6"
      },
      "execution_count": 11,
      "outputs": [
        {
          "output_type": "stream",
          "name": "stdout",
          "text": [
            "Accuracy: 0.9444444444444444\n"
          ]
        }
      ]
    },
    {
      "cell_type": "markdown",
      "source": [
        "**Visualize the Tree**"
      ],
      "metadata": {
        "id": "c7adrpwALPE_"
      }
    },
    {
      "cell_type": "code",
      "source": [
        "from matplotlib import pyplot as plt\n",
        "from sklearn import tree\n",
        "fig = plt.figure(figsize=(20,15))\n",
        "_=tree.plot_tree(clf,filled=True)\n"
      ],
      "metadata": {
        "colab": {
          "base_uri": "https://localhost:8080/",
          "height": 1000
        },
        "id": "chCnVViykv_a",
        "outputId": "19d5cdf8-3052-466e-c993-32b0709e25d6"
      },
      "execution_count": 12,
      "outputs": [
        {
          "output_type": "display_data",
          "data": {
            "text/plain": [
              "<Figure size 2000x1500 with 1 Axes>"
            ],
            "image/png": "[encoded data removed]"
          },
          "metadata": {}
        }
      ]
    },
    {
      "cell_type": "markdown",
      "source": [
        "# * **Let's Use Random Forest on the same data** *"
      ],
      "metadata": {
        "id": "OMhlsiUTMCbJ"
      }
    },
    {
      "cell_type": "code",
      "source": [
        "from sklearn.ensemble import RandomForestClassifier\n",
        "clf = RandomForestClassifier(n_estimators = 100, max_depth=3,criterion=\"entropy\" ,random_state=0)"
      ],
      "metadata": {
        "id": "7blwoUekbaQM"
      },
      "execution_count": 13,
      "outputs": []
    },
    {
      "cell_type": "markdown",
      "source": [
        "**Let's train this model using the training set and its corresponding labels**"
      ],
      "metadata": {
        "id": "0UHfHxDrMIwv"
      }
    },
    {
      "cell_type": "code",
      "source": [
        "clf = clf.fit(x_train,y_train)"
      ],
      "metadata": {
        "id": "UvAEP3Z7c1pd"
      },
      "execution_count": 14,
      "outputs": []
    },
    {
      "cell_type": "markdown",
      "source": [
        "**Apply the learned model on the test data**"
      ],
      "metadata": {
        "id": "kRt_axTGMPkl"
      }
    },
    {
      "cell_type": "code",
      "source": [
        "y_pred = clf.predict(x_test)"
      ],
      "metadata": {
        "id": "nmAKye8Gc-m-"
      },
      "execution_count": 15,
      "outputs": []
    },
    {
      "cell_type": "markdown",
      "source": [
        "# **Now Let's See the model's performance on the test data**\n",
        "# **First, we calculate the accuracy. We also show a confution matrix for each class**"
      ],
      "metadata": {
        "id": "4k5Y-RGBMZR1"
      }
    },
    {
      "cell_type": "code",
      "source": [
        "print(\"Accuracy:\",metrics.accuracy_score(y_test, y_pred))\n",
        "print(\"Confusion\", metrics.confusion_matrix(y_test, y_pred))"
      ],
      "metadata": {
        "colab": {
          "base_uri": "https://localhost:8080/"
        },
        "id": "Ld3gS2UkewIH",
        "outputId": "baa73bbc-bccc-42a2-c3fa-0c77eafeb952"
      },
      "execution_count": 16,
      "outputs": [
        {
          "output_type": "stream",
          "name": "stdout",
          "text": [
            "Accuracy: 0.9814814814814815\n",
            "Confusion [[23  0  0]\n",
            " [ 1 18  0]\n",
            " [ 0  0 12]]\n"
          ]
        }
      ]
    },
    {
      "cell_type": "markdown",
      "source": [
        "**Now let's move on with precison, recall, and F1-score. **\n",
        "**Since this is a multi-class classification problem, we take the average for each class (treat it as several binary classification)**"
      ],
      "metadata": {
        "id": "clyftPoSMosl"
      }
    },
    {
      "cell_type": "code",
      "source": [
        "print(\"Precision:\", metrics.precision_score(y_test, y_pred, average='macro'))\n",
        "print(\"Recall:\", metrics.recall_score(y_test, y_pred, average='macro'))\n",
        "print(\"F1_score:\", metrics.f1_score(y_test, y_pred, average='macro'))"
      ],
      "metadata": {
        "colab": {
          "base_uri": "https://localhost:8080/"
        },
        "id": "Ax8IBlYmfUPc",
        "outputId": "37f682d6-6816-4c7d-cd9d-af580cbadb7b"
      },
      "execution_count": 17,
      "outputs": [
        {
          "output_type": "stream",
          "name": "stdout",
          "text": [
            "Precision: 0.9861111111111112\n",
            "Recall: 0.9824561403508771\n",
            "F1_score: 0.9838987924094308\n"
          ]
        }
      ]
    },
    {
      "cell_type": "markdown",
      "source": [
        "**Or we can get all three in one line of code**"
      ],
      "metadata": {
        "id": "FxkMyHBJM8_F"
      }
    },
    {
      "cell_type": "code",
      "source": [
        "print(\"all:\", metrics.precision_recall_fscore_support(y_test, y_pred, average='macro'))"
      ],
      "metadata": {
        "colab": {
          "base_uri": "https://localhost:8080/"
        },
        "id": "R0DRpI1qhO0H",
        "outputId": "09856fa7-9b3d-48b4-faff-c0f2f0b57d4e"
      },
      "execution_count": 18,
      "outputs": [
        {
          "output_type": "stream",
          "name": "stdout",
          "text": [
            "all: (0.9861111111111112, 0.9824561403508771, 0.9838987924094308, None)\n"
          ]
        }
      ]
    },
    {
      "cell_type": "markdown",
      "source": [
        "**NOTE: By examining the precision, recall, and F1-score values for each class, wecan identify which classes are performing well and which classes need improvement, and then take actions to improve the model's performance on specific classes.**"
      ],
      "metadata": {
        "id": "c2B2fLHm8LB9"
      }
    },
    {
      "cell_type": "code",
      "source": [
        "precision, recall, f1, _ = metrics.precision_recall_fscore_support(y_test, y_pred, average=None)\n",
        "\n",
        "for i in range(len(precision)):\n",
        "    print(f\"Class {i}:\")\n",
        "    print(f\"Precision: {precision[i]}\")\n",
        "    print(f\"Recall: {recall[i]}\")\n",
        "    print(f\"F1-score: {f1[i]}\")\n",
        "    print()\n"
      ],
      "metadata": {
        "colab": {
          "base_uri": "https://localhost:8080/"
        },
        "id": "d_EKbFZ56VaW",
        "outputId": "8be03d19-c718-4aa4-f5cf-a18a6684c2dc"
      },
      "execution_count": 19,
      "outputs": [
        {
          "output_type": "stream",
          "name": "stdout",
          "text": [
            "Class 0:\n",
            "Precision: 0.9583333333333334\n",
            "Recall: 1.0\n",
            "F1-score: 0.9787234042553191\n",
            "\n",
            "Class 1:\n",
            "Precision: 1.0\n",
            "Recall: 0.9473684210526315\n",
            "F1-score: 0.972972972972973\n",
            "\n",
            "Class 2:\n",
            "Precision: 1.0\n",
            "Recall: 1.0\n",
            "F1-score: 1.0\n",
            "\n"
          ]
        }
      ]
    },
    {
      "cell_type": "markdown",
      "source": [
        "**Finally, let's get the AUC as well.**"
      ],
      "metadata": {
        "id": "IotHaciNNG_F"
      }
    },
    {
      "cell_type": "code",
      "source": [
        "print(\"auc:\", metrics.roc_auc_score(y_test, clf.predict_proba(x_test), average='macro', multi_class='ovo'))"
      ],
      "metadata": {
        "colab": {
          "base_uri": "https://localhost:8080/"
        },
        "id": "9_BCwbOukw-b",
        "outputId": "3b666972-c27a-4c72-a171-5b6b9c4409a2"
      },
      "execution_count": 20,
      "outputs": [
        {
          "output_type": "stream",
          "name": "stdout",
          "text": [
            "auc: 0.9996186117467581\n"
          ]
        }
      ]
    },
    {
      "cell_type": "markdown",
      "source": [
        "**Try to plot the ROC** **curve**"
      ],
      "metadata": {
        "id": "Hii9HBXw9wHL"
      }
    },
    {
      "cell_type": "markdown",
      "source": [
        "***Check the size of y_test***"
      ],
      "metadata": {
        "id": "SIljJvncRKia"
      }
    },
    {
      "cell_type": "code",
      "source": [
        "y_test"
      ],
      "metadata": {
        "colab": {
          "base_uri": "https://localhost:8080/"
        },
        "id": "vw8mINdeJl_y",
        "outputId": "fec9b3e9-1ec2-4972-a760-b4e514ff139d"
      },
      "execution_count": 21,
      "outputs": [
        {
          "output_type": "execute_result",
          "data": {
            "text/plain": [
              "161    Type3\n",
              "117    Type2\n",
              "19     Type1\n",
              "69     Type2\n",
              "53     Type1\n",
              "138    Type3\n",
              "112    Type2\n",
              "14     Type1\n",
              "160    Type3\n",
              "107    Type2\n",
              "11     Type1\n",
              "4      Type1\n",
              "108    Type2\n",
              "42     Type1\n",
              "84     Type2\n",
              "113    Type2\n",
              "152    Type3\n",
              "35     Type1\n",
              "105    Type2\n",
              "31     Type1\n",
              "51     Type1\n",
              "126    Type2\n",
              "130    Type3\n",
              "73     Type2\n",
              "40     Type1\n",
              "162    Type3\n",
              "47     Type1\n",
              "29     Type1\n",
              "16     Type1\n",
              "147    Type3\n",
              "97     Type2\n",
              "159    Type3\n",
              "151    Type3\n",
              "5      Type1\n",
              "120    Type2\n",
              "94     Type2\n",
              "91     Type2\n",
              "81     Type2\n",
              "114    Type2\n",
              "48     Type1\n",
              "54     Type1\n",
              "59     Type2\n",
              "165    Type3\n",
              "39     Type1\n",
              "56     Type1\n",
              "44     Type1\n",
              "78     Type2\n",
              "33     Type1\n",
              "18     Type1\n",
              "58     Type1\n",
              "127    Type2\n",
              "172    Type3\n",
              "148    Type3\n",
              "12     Type1\n",
              "Name: Class, dtype: object"
            ]
          },
          "metadata": {},
          "execution_count": 21
        }
      ]
    },
    {
      "cell_type": "markdown",
      "source": [
        "# **Because y is string object ('Type1', 'Type2', 'Type3'), we need to convert to numerical for LabelEncoder in order to transform to one-hot encoding**"
      ],
      "metadata": {
        "id": "bAsJ-hoTgxsx"
      }
    },
    {
      "cell_type": "code",
      "source": [
        "from sklearn.preprocessing import LabelEncoder\n",
        "from sklearn.preprocessing import LabelBinarizer\n",
        "le = LabelEncoder()\n",
        "y_train = le.fit_transform(y_train)\n",
        "y_test = le.transform(y_test)\n",
        "\n",
        "label_binarizer = LabelBinarizer().fit(y_train)\n",
        "y_onehot_test = label_binarizer.transform(y_test)\n",
        "y_onehot_test.shape #(n_samples, n_classes)"
      ],
      "metadata": {
        "colab": {
          "base_uri": "https://localhost:8080/"
        },
        "id": "WamNVX0JgiqF",
        "outputId": "cf05253d-1e50-4301-f6a7-9a7338478137"
      },
      "execution_count": 22,
      "outputs": [
        {
          "output_type": "execute_result",
          "data": {
            "text/plain": [
              "(54, 3)"
            ]
          },
          "metadata": {},
          "execution_count": 22
        }
      ]
    },
    {
      "cell_type": "markdown",
      "source": [
        "**Test if y class transform to one-hot encoding**"
      ],
      "metadata": {
        "id": "8q09gRKUhhiK"
      }
    },
    {
      "cell_type": "code",
      "source": [
        "label_binarizer.classes_"
      ],
      "metadata": {
        "colab": {
          "base_uri": "https://localhost:8080/"
        },
        "id": "kb5yclQaeTZe",
        "outputId": "3560b10e-44b2-43a1-fc97-0e07cecc8305"
      },
      "execution_count": 23,
      "outputs": [
        {
          "output_type": "execute_result",
          "data": {
            "text/plain": [
              "array([0, 1, 2])"
            ]
          },
          "metadata": {},
          "execution_count": 23
        }
      ]
    },
    {
      "cell_type": "markdown",
      "source": [
        "***We can check the one-hot encoding of each class***"
      ],
      "metadata": {
        "id": "RDGNwOSc933S"
      }
    },
    {
      "cell_type": "code",
      "source": [
        "label_binarizer.transform([0])"
      ],
      "metadata": {
        "colab": {
          "base_uri": "https://localhost:8080/"
        },
        "id": "1z6LjgJMcRC5",
        "outputId": "90f2668a-4a62-49c0-9c93-87e2df48e5a4"
      },
      "execution_count": 24,
      "outputs": [
        {
          "output_type": "execute_result",
          "data": {
            "text/plain": [
              "array([[1, 0, 0]])"
            ]
          },
          "metadata": {},
          "execution_count": 24
        }
      ]
    },
    {
      "cell_type": "markdown",
      "source": [
        "**class_of_interest =0** **(type 1)**"
      ],
      "metadata": {
        "id": "WxrARxJ2-AoQ"
      }
    },
    {
      "cell_type": "code",
      "source": [
        "class_of_interest =0\n",
        "class_id = np.flatnonzero (label_binarizer.classes_==class_of_interest)[0]\n",
        "class_id \n"
      ],
      "metadata": {
        "colab": {
          "base_uri": "https://localhost:8080/"
        },
        "id": "1WU8CfA-estO",
        "outputId": "7f9562cc-934d-4d19-c08c-e0a25500a6e0"
      },
      "execution_count": 25,
      "outputs": [
        {
          "output_type": "execute_result",
          "data": {
            "text/plain": [
              "0"
            ]
          },
          "metadata": {},
          "execution_count": 25
        }
      ]
    },
    {
      "cell_type": "markdown",
      "source": [
        "**Now we can plot it as follows**"
      ],
      "metadata": {
        "id": "KIfQY05d-MUK"
      }
    },
    {
      "cell_type": "code",
      "source": [
        "import matplotlib.pyplot as plt\n",
        "from sklearn.metrics import RocCurveDisplay\n",
        "RocCurveDisplay.from_predictions(\n",
        "    y_onehot_test[:, class_id],\n",
        "    clf.predict_proba(x_test)[:, class_id],\n",
        "    name=f\"{class_of_interest} vs the rest\",\n",
        "    color=\"darkorange\",\n",
        ")\n",
        "plt.plot([0, 1], [0, 1], \"k--\", label=\"chance level (AUC = 0.5)\")\n",
        "plt.axis(\"square\")\n",
        "plt.xlabel(\"False Postive Rate\")\n",
        "plt.ylabel(\"True Positive Rate\")\n",
        "plt.title(\"One-vs-Rest ROC curves:\\nclass 0 vs other 2 categories\")\n",
        "plt.legend()\n",
        "plt.show()\n"
      ],
      "metadata": {
        "colab": {
          "base_uri": "https://localhost:8080/",
          "height": 493
        },
        "id": "cPGZ8V7agUZK",
        "outputId": "3de908e5-21d0-4a8b-86f5-282af3481bbf"
      },
      "execution_count": 26,
      "outputs": [
        {
          "output_type": "display_data",
          "data": {
            "text/plain": [
              "<Figure size 640x480 with 1 Axes>"
            ],
            "image/png": "[encoded data removed]"
          },
          "metadata": {}
        }
      ]
    },
    {
      "cell_type": "markdown",
      "source": [
        "# * **Build a naive Bayes Model** *"
      ],
      "metadata": {
        "id": "jiKNnoxU_o-1"
      }
    },
    {
      "cell_type": "code",
      "source": [
        "from sklearn.naive_bayes import GaussianNB"
      ],
      "metadata": {
        "id": "o0rvhGkEoQYs"
      },
      "execution_count": 27,
      "outputs": []
    },
    {
      "cell_type": "code",
      "source": [
        "clf = GaussianNB()"
      ],
      "metadata": {
        "id": "aOnH9gsHohmd"
      },
      "execution_count": 28,
      "outputs": []
    },
    {
      "cell_type": "code",
      "source": [
        "clf.fit(x_train, y_train)"
      ],
      "metadata": {
        "colab": {
          "base_uri": "https://localhost:8080/",
          "height": 75
        },
        "id": "sCCYT_zpooo-",
        "outputId": "134fb4a5-5a4b-4da1-8db9-5f8b2429a054"
      },
      "execution_count": 29,
      "outputs": [
        {
          "output_type": "execute_result",
          "data": {
            "text/plain": [
              "GaussianNB()"
            ],
            "text/html": [
              "<style>#sk-container-id-1 {color: black;background-color: white;}#sk-container-id-1 pre{padding: 0;}#sk-container-id-1 div.sk-toggleable {background-color: white;}#sk-container-id-1 label.sk-toggleable__label {cursor: pointer;display: block;width: 100%;margin-bottom: 0;padding: 0.3em;box-sizing: border-box;text-align: center;}#sk-container-id-1 label.sk-toggleable__label-arrow:before {content: \"▸\";float: left;margin-right: 0.25em;color: #696969;}#sk-container-id-1 label.sk-toggleable__label-arrow:hover:before {color: black;}#sk-container-id-1 div.sk-estimator:hover label.sk-toggleable__label-arrow:before {color: black;}#sk-container-id-1 div.sk-toggleable__content {max-height: 0;max-width: 0;overflow: hidden;text-align: left;background-color: #f0f8ff;}#sk-container-id-1 div.sk-toggleable__content pre {margin: 0.2em;color: black;border-radius: 0.25em;background-color: #f0f8ff;}#sk-container-id-1 input.sk-toggleable__control:checked~div.sk-toggleable__content {max-height: 200px;max-width: 100%;overflow: auto;}#sk-container-id-1 input.sk-toggleable__control:checked~label.sk-toggleable__label-arrow:before {content: \"▾\";}#sk-container-id-1 div.sk-estimator input.sk-toggleable__control:checked~label.sk-toggleable__label {background-color: #d4ebff;}#sk-container-id-1 div.sk-label input.sk-toggleable__control:checked~label.sk-toggleable__label {background-color: #d4ebff;}#sk-container-id-1 input.sk-hidden--visually {border: 0;clip: rect(1px 1px 1px 1px);clip: rect(1px, 1px, 1px, 1px);height: 1px;margin: -1px;overflow: hidden;padding: 0;position: absolute;width: 1px;}#sk-container-id-1 div.sk-estimator {font-family: monospace;background-color: #f0f8ff;border: 1px dotted black;border-radius: 0.25em;box-sizing: border-box;margin-bottom: 0.5em;}#sk-container-id-1 div.sk-estimator:hover {background-color: #d4ebff;}#sk-container-id-1 div.sk-parallel-item::after {content: \"\";width: 100%;border-bottom: 1px solid gray;flex-grow: 1;}#sk-container-id-1 div.sk-label:hover label.sk-toggleable__label {background-color: #d4ebff;}#sk-container-id-1 div.sk-serial::before {content: \"\";position: absolute;border-left: 1px solid gray;box-sizing: border-box;top: 0;bottom: 0;left: 50%;z-index: 0;}#sk-container-id-1 div.sk-serial {display: flex;flex-direction: column;align-items: center;background-color: white;padding-right: 0.2em;padding-left: 0.2em;position: relative;}#sk-container-id-1 div.sk-item {position: relative;z-index: 1;}#sk-container-id-1 div.sk-parallel {display: flex;align-items: stretch;justify-content: center;background-color: white;position: relative;}#sk-container-id-1 div.sk-item::before, #sk-container-id-1 div.sk-parallel-item::before {content: \"\";position: absolute;border-left: 1px solid gray;box-sizing: border-box;top: 0;bottom: 0;left: 50%;z-index: -1;}#sk-container-id-1 div.sk-parallel-item {display: flex;flex-direction: column;z-index: 1;position: relative;background-color: white;}#sk-container-id-1 div.sk-parallel-item:first-child::after {align-self: flex-end;width: 50%;}#sk-container-id-1 div.sk-parallel-item:last-child::after {align-self: flex-start;width: 50%;}#sk-container-id-1 div.sk-parallel-item:only-child::after {width: 0;}#sk-container-id-1 div.sk-dashed-wrapped {border: 1px dashed gray;margin: 0 0.4em 0.5em 0.4em;box-sizing: border-box;padding-bottom: 0.4em;background-color: white;}#sk-container-id-1 div.sk-label label {font-family: monospace;font-weight: bold;display: inline-block;line-height: 1.2em;}#sk-container-id-1 div.sk-label-container {text-align: center;}#sk-container-id-1 div.sk-container {/* jupyter's `normalize.less` sets `[hidden] { display: none; }` but bootstrap.min.css set `[hidden] { display: none !important; }` so we also need the `!important` here to be able to override the default hidden behavior on the sphinx rendered scikit-learn.org. See: https://github.com/scikit-learn/scikit-learn/issues/21755 */display: inline-block !important;position: relative;}#sk-container-id-1 div.sk-text-repr-fallback {display: none;}</style><div id=\"sk-container-id-1\" class=\"sk-top-container\"><div class=\"sk-text-repr-fallback\"><pre>GaussianNB()</pre><b>In a Jupyter environment, please rerun this cell to show the HTML representation or trust the notebook. <br />On GitHub, the HTML representation is unable to render, please try loading this page with nbviewer.org.</b></div><div class=\"sk-container\" hidden><div class=\"sk-item\"><div class=\"sk-estimator sk-toggleable\"><input class=\"sk-toggleable__control sk-hidden--visually\" id=\"sk-estimator-id-1\" type=\"checkbox\" checked><label for=\"sk-estimator-id-1\" class=\"sk-toggleable__label sk-toggleable__label-arrow\">GaussianNB</label><div class=\"sk-toggleable__content\"><pre>GaussianNB()</pre></div></div></div></div></div>"
            ]
          },
          "metadata": {},
          "execution_count": 29
        }
      ]
    },
    {
      "cell_type": "markdown",
      "source": [
        "**Now we can predict output using the learned model**"
      ],
      "metadata": {
        "id": "X6g_xNzu--5f"
      }
    },
    {
      "cell_type": "code",
      "source": [
        "y_pred = clf.predict(x_test)"
      ],
      "metadata": {
        "id": "QRNjijOpo3MD"
      },
      "execution_count": 30,
      "outputs": []
    },
    {
      "cell_type": "markdown",
      "source": [
        "**Now we are ready to evaluate the prediction**"
      ],
      "metadata": {
        "id": "ymfoArwh-vCg"
      }
    },
    {
      "cell_type": "code",
      "source": [
        "import sklearn.metrics\n",
        "print(\"Accuracy:\",metrics.accuracy_score(y_test,y_pred))\n",
        "print(\"Precision:\", metrics.precision_score(y_test, y_pred, average='macro'))\n",
        "print(\"Recall:\", metrics.recall_score(y_test, y_pred, average='macro'))\n",
        "print(\"F1_score:\", metrics.f1_score(y_test, y_pred, average='macro'))\n",
        "print(\"all:\", metrics.precision_recall_fscore_support(y_test, y_pred, average='macro'))"
      ],
      "metadata": {
        "colab": {
          "base_uri": "https://localhost:8080/"
        },
        "id": "QdxlCW0NrJ62",
        "outputId": "dc15e8ca-e30f-4940-a894-cd0c8f0e0aa8"
      },
      "execution_count": 31,
      "outputs": [
        {
          "output_type": "stream",
          "name": "stdout",
          "text": [
            "Accuracy: 0.9814814814814815\n",
            "Precision: 0.9861111111111112\n",
            "Recall: 0.9824561403508771\n",
            "F1_score: 0.9838987924094308\n",
            "all: (0.9861111111111112, 0.9824561403508771, 0.9838987924094308, None)\n"
          ]
        }
      ]
    },
    {
      "cell_type": "markdown",
      "source": [
        "# ***Lets train a neural network ***"
      ],
      "metadata": {
        "id": "xw0sHy99j86d"
      }
    },
    {
      "cell_type": "code",
      "source": [
        "from sklearn.neural_network import MLPClassifier"
      ],
      "metadata": {
        "id": "iYF22gW7wgl1"
      },
      "execution_count": 32,
      "outputs": []
    },
    {
      "cell_type": "markdown",
      "source": [
        "**Next, we create the classffier and train MLP on training set**"
      ],
      "metadata": {
        "id": "-BQBQ7tFkg4X"
      }
    },
    {
      "cell_type": "code",
      "source": [
        "clf = MLPClassifier(random_state=1, max_iter=5, solver='sgd')\n",
        "clf.fit(x_train, y_train)\n",
        "clf.predict_proba(x_test)"
      ],
      "metadata": {
        "id": "j7RomezUwkwG",
        "colab": {
          "base_uri": "https://localhost:8080/"
        },
        "outputId": "86ba7a40-7c5c-4cce-9b4e-a23a45e56225"
      },
      "execution_count": 33,
      "outputs": [
        {
          "output_type": "stream",
          "name": "stderr",
          "text": [
            "/usr/local/lib/python3.10/dist-packages/sklearn/neural_network/_multilayer_perceptron.py:686: ConvergenceWarning: Stochastic Optimizer: Maximum iterations (5) reached and the optimization hasn't converged yet.\n",
            "  warnings.warn(\n"
          ]
        },
        {
          "output_type": "execute_result",
          "data": {
            "text/plain": [
              "array([[0.25399137, 0.41116538, 0.33484325],\n",
              "       [0.19749433, 0.53757024, 0.26493543],\n",
              "       [0.27049878, 0.39585287, 0.33364836],\n",
              "       [0.16770951, 0.50109881, 0.33119168],\n",
              "       [0.27950835, 0.38769778, 0.33279387],\n",
              "       [0.26879831, 0.39740767, 0.33379402],\n",
              "       [0.23531887, 0.42911366, 0.33556747],\n",
              "       [0.27950835, 0.38769778, 0.33279387],\n",
              "       [0.24998229, 0.4149606 , 0.3350571 ],\n",
              "       [0.24662863, 0.41815934, 0.33521203],\n",
              "       [0.27950835, 0.38769778, 0.33279387],\n",
              "       [0.23673368, 0.42772884, 0.33553748],\n",
              "       [0.20714925, 0.50199747, 0.29085328],\n",
              "       [0.27950835, 0.38769778, 0.33279387],\n",
              "       [0.22888753, 0.43546284, 0.33564963],\n",
              "       [0.22244081, 0.44191905, 0.33564014],\n",
              "       [0.17386975, 0.49683178, 0.32929847],\n",
              "       [0.27950835, 0.38769778, 0.33279387],\n",
              "       [0.20015443, 0.48456771, 0.31527786],\n",
              "       [0.27950835, 0.38769778, 0.33279387],\n",
              "       [0.27950835, 0.38769778, 0.33279387],\n",
              "       [0.20503488, 0.45984224, 0.33512288],\n",
              "       [0.20581647, 0.45902119, 0.33516234],\n",
              "       [0.25753488, 0.40783632, 0.3346288 ],\n",
              "       [0.25399822, 0.41115892, 0.33484286],\n",
              "       [0.22504306, 0.43930165, 0.33565529],\n",
              "       [0.27950835, 0.38769778, 0.33279387],\n",
              "       [0.27950835, 0.38769778, 0.33279387],\n",
              "       [0.27950835, 0.38769778, 0.33279387],\n",
              "       [0.27950835, 0.38769778, 0.33279387],\n",
              "       [0.22603774, 0.43830525, 0.33565701],\n",
              "       [0.27907835, 0.38808389, 0.33283776],\n",
              "       [0.19222871, 0.47352897, 0.33424231],\n",
              "       [0.27950835, 0.38769778, 0.33279387],\n",
              "       [0.25101312, 0.41398181, 0.33500507],\n",
              "       [0.20561854, 0.5078756 , 0.28650587],\n",
              "       [0.23232174, 0.43206135, 0.3356169 ],\n",
              "       [0.27950835, 0.38769778, 0.33279387],\n",
              "       [0.21914787, 0.44525359, 0.33559854],\n",
              "       [0.27950835, 0.38769778, 0.33279387],\n",
              "       [0.27950835, 0.38769778, 0.33279387],\n",
              "       [0.24907764, 0.41582129, 0.33510107],\n",
              "       [0.25249293, 0.41258028, 0.33492679],\n",
              "       [0.22072919, 0.44364913, 0.33562168],\n",
              "       [0.27950835, 0.38769778, 0.33279387],\n",
              "       [0.27950835, 0.38769778, 0.33279387],\n",
              "       [0.20104134, 0.46406247, 0.33489619],\n",
              "       [0.27950835, 0.38769778, 0.33279387],\n",
              "       [0.27950835, 0.38769778, 0.33279387],\n",
              "       [0.27950835, 0.38769778, 0.33279387],\n",
              "       [0.22172358, 0.44264318, 0.33563323],\n",
              "       [0.27950835, 0.38769778, 0.33279387],\n",
              "       [0.27950835, 0.38769778, 0.33279387],\n",
              "       [0.27950835, 0.38769778, 0.33279387]])"
            ]
          },
          "metadata": {},
          "execution_count": 33
        }
      ]
    },
    {
      "cell_type": "code",
      "source": [
        "y_pred = clf.predict(x_test)"
      ],
      "metadata": {
        "id": "Gzstkp3VkUPm"
      },
      "execution_count": 34,
      "outputs": []
    },
    {
      "cell_type": "code",
      "source": [
        "import sklearn.metrics\n",
        "print(\"Accuracy:\",metrics.accuracy_score(y_test,y_pred))\n",
        "print(\"Precision:\", metrics.precision_score(y_test, y_pred, average='macro'))\n",
        "print(\"Recall:\", metrics.recall_score(y_test, y_pred, average='macro'))\n",
        "print(\"F1_score:\", metrics.f1_score(y_test, y_pred, average='macro'))\n",
        "print(\"all:\", metrics.precision_recall_fscore_support(y_test, y_pred, average='macro'))"
      ],
      "metadata": {
        "colab": {
          "base_uri": "https://localhost:8080/"
        },
        "id": "2c0XgZQ6kUE8",
        "outputId": "eb0d231b-6ee8-4a75-a8b9-658d671913f8"
      },
      "execution_count": 35,
      "outputs": [
        {
          "output_type": "stream",
          "name": "stdout",
          "text": [
            "Accuracy: 0.35185185185185186\n",
            "Precision: 0.11728395061728396\n",
            "Recall: 0.3333333333333333\n",
            "F1_score: 0.1735159817351598\n",
            "all: (0.11728395061728396, 0.3333333333333333, 0.1735159817351598, None)\n"
          ]
        },
        {
          "output_type": "stream",
          "name": "stderr",
          "text": [
            "/usr/local/lib/python3.10/dist-packages/sklearn/metrics/_classification.py:1344: UndefinedMetricWarning: Precision is ill-defined and being set to 0.0 in labels with no predicted samples. Use `zero_division` parameter to control this behavior.\n",
            "  _warn_prf(average, modifier, msg_start, len(result))\n",
            "/usr/local/lib/python3.10/dist-packages/sklearn/metrics/_classification.py:1344: UndefinedMetricWarning: Precision and F-score are ill-defined and being set to 0.0 in labels with no predicted samples. Use `zero_division` parameter to control this behavior.\n",
            "  _warn_prf(average, modifier, msg_start, len(result))\n"
          ]
        }
      ]
    },
    {
      "cell_type": "markdown",
      "source": [
        "**Let's practice the same in a deep learning library TensorFlow. We don't want run our model on GPU in this exercise.**"
      ],
      "metadata": {
        "id": "26dparAVoUez"
      }
    },
    {
      "cell_type": "code",
      "source": [
        "import tensorflow as tf\n",
        "print(tf.__version__) #check thye version of tensorFlow you are using\n",
        "print(tf.config.list_physical_devices('GPU')) #optional"
      ],
      "metadata": {
        "colab": {
          "base_uri": "https://localhost:8080/"
        },
        "id": "ff6UVn97oTiV",
        "outputId": "49c6bd7a-49c4-4524-b1de-567ef5dc1ec0"
      },
      "execution_count": 36,
      "outputs": [
        {
          "output_type": "stream",
          "name": "stdout",
          "text": [
            "2.12.0\n",
            "[]\n"
          ]
        }
      ]
    },
    {
      "cell_type": "code",
      "source": [
        "from sklearn.preprocessing import LabelEncoder\n",
        "\n",
        "le = LabelEncoder()\n",
        "y_train = le.fit_transform(y_train)\n",
        "y_test = le.transform(y_test)\n",
        "\n",
        "label_binarizer = LabelBinarizer().fit(y_train)\n",
        "y_onehot_test = label_binarizer.transform(y_test)\n",
        "y_onehot_test.shape #(n_samples, n_classes)"
      ],
      "metadata": {
        "colab": {
          "base_uri": "https://localhost:8080/"
        },
        "id": "WaZeqzK9UnKd",
        "outputId": "c9fa4804-02ef-438f-8d1c-13c517ced1bd"
      },
      "execution_count": 37,
      "outputs": [
        {
          "output_type": "execute_result",
          "data": {
            "text/plain": [
              "(54, 3)"
            ]
          },
          "metadata": {},
          "execution_count": 37
        }
      ]
    },
    {
      "cell_type": "markdown",
      "source": [
        "# **conver again to y_train to have shape (None, 3), which corresponds to 3 classes otherwise the error will on model.fit(x_train, y_train, epochs=5, batch_size=32)**"
      ],
      "metadata": {
        "id": "v5AyHw0JWSti"
      }
    },
    {
      "cell_type": "code",
      "source": [
        "y_train = tf.keras.utils.to_categorical(y_train, num_classes=3)"
      ],
      "metadata": {
        "id": "mVeHbn-PVqmo"
      },
      "execution_count": 38,
      "outputs": []
    },
    {
      "cell_type": "markdown",
      "source": [
        "**Next, we need to build our neural network model using Keras API in tensorFlow**"
      ],
      "metadata": {
        "id": "DALB4Q1WrcLg"
      }
    },
    {
      "cell_type": "code",
      "source": [
        "from keras.layers.attention.multi_head_attention import activation\n",
        "model = tf.keras.Sequential()\n",
        "model.add(tf.keras.layers.InputLayer(input_shape=(13)))\n",
        "model.add(tf.keras.layers.Dense(units=3,activation=tf.nn.softmax))"
      ],
      "metadata": {
        "id": "MNtMUcKfkT51"
      },
      "execution_count": 39,
      "outputs": []
    },
    {
      "cell_type": "markdown",
      "source": [
        "**let's train the model using a loss function (same log loss or cross entropy we used in scikit learn)**\n",
        "**sparse_categorical_crossentropy automatically does the one-hot encoding on the output layer as we talked about in the class.**"
      ],
      "metadata": {
        "id": "vMwFYiWxvXYP"
      }
    },
    {
      "cell_type": "code",
      "source": [
        "print(x_train.shape, y_train.shape)"
      ],
      "metadata": {
        "colab": {
          "base_uri": "https://localhost:8080/"
        },
        "id": "14eDcVkFgjRm",
        "outputId": "8c6d7aa6-d956-4779-a54b-87ba8d3807cd"
      },
      "execution_count": 40,
      "outputs": [
        {
          "output_type": "stream",
          "name": "stdout",
          "text": [
            "(124, 13) (124, 3)\n"
          ]
        }
      ]
    },
    {
      "cell_type": "code",
      "source": [
        "\n",
        "model.compile(optimizer=tf.keras.optimizers.Adam(0.001), loss='categorical_crossentropy', metrics=['accuracy'])\n",
        "model.fit(x_train, y_train, epochs=5, batch_size=32)\n"
      ],
      "metadata": {
        "colab": {
          "base_uri": "https://localhost:8080/"
        },
        "id": "dXAZWrdutpEs",
        "outputId": "2af9701f-24ab-4025-8535-806ca2a4dccb"
      },
      "execution_count": 41,
      "outputs": [
        {
          "output_type": "stream",
          "name": "stdout",
          "text": [
            "Epoch 1/5\n",
            "4/4 [==============================] - 2s 7ms/step - loss: 152.9781 - accuracy: 0.4194\n",
            "Epoch 2/5\n",
            "4/4 [==============================] - 0s 7ms/step - loss: 148.2362 - accuracy: 0.4194\n",
            "Epoch 3/5\n",
            "4/4 [==============================] - 0s 14ms/step - loss: 143.4740 - accuracy: 0.4194\n",
            "Epoch 4/5\n",
            "4/4 [==============================] - 0s 5ms/step - loss: 139.0724 - accuracy: 0.4194\n",
            "Epoch 5/5\n",
            "4/4 [==============================] - 0s 5ms/step - loss: 134.2450 - accuracy: 0.4194\n"
          ]
        },
        {
          "output_type": "execute_result",
          "data": {
            "text/plain": [
              "<keras.callbacks.History at 0x7f336459e1d0>"
            ]
          },
          "metadata": {},
          "execution_count": 41
        }
      ]
    },
    {
      "cell_type": "markdown",
      "source": [
        "# **cannot run with 'sparse_categorical_crossentropy'**\n",
        "***If run this code error and the following code will also error***"
      ],
      "metadata": {
        "id": "j8_A9nfP3Amx"
      }
    },
    {
      "cell_type": "code",
      "source": [
        "model.compile(optimizer=tf.keras.optimizers.Adam(0.001), loss='sparse_categorical_crossentropy',metrics=['accuracy'])\n",
        "model.fit(x_train, y_train, epochs=5, batch_size=32)"
      ],
      "metadata": {
        "id": "AZJshM4mr2qm",
        "colab": {
          "base_uri": "https://localhost:8080/",
          "height": 1000
        },
        "outputId": "5c325f3e-7a08-44f5-f031-d80dd211ddfa"
      },
      "execution_count": 42,
      "outputs": [
        {
          "output_type": "stream",
          "name": "stdout",
          "text": [
            "Epoch 1/5\n"
          ]
        },
        {
          "output_type": "error",
          "ename": "InvalidArgumentError",
          "evalue": "ignored",
          "traceback": [
            "\u001b[0;31m---------------------------------------------------------------------------\u001b[0m",
            "\u001b[0;31mInvalidArgumentError\u001b[0m                      Traceback (most recent call last)",
            "\u001b[0;32m<ipython-input-42-6ae6814c5995>\u001b[0m in \u001b[0;36m<cell line: 2>\u001b[0;34m()\u001b[0m\n\u001b[1;32m      1\u001b[0m \u001b[0mmodel\u001b[0m\u001b[0;34m.\u001b[0m\u001b[0mcompile\u001b[0m\u001b[0;34m(\u001b[0m\u001b[0moptimizer\u001b[0m\u001b[0;34m=\u001b[0m\u001b[0mtf\u001b[0m\u001b[0;34m.\u001b[0m\u001b[0mkeras\u001b[0m\u001b[0;34m.\u001b[0m\u001b[0moptimizers\u001b[0m\u001b[0;34m.\u001b[0m\u001b[0mAdam\u001b[0m\u001b[0;34m(\u001b[0m\u001b[0;36m0.001\u001b[0m\u001b[0;34m)\u001b[0m\u001b[0;34m,\u001b[0m \u001b[0mloss\u001b[0m\u001b[0;34m=\u001b[0m\u001b[0;34m'sparse_categorical_crossentropy'\u001b[0m\u001b[0;34m,\u001b[0m\u001b[0mmetrics\u001b[0m\u001b[0;34m=\u001b[0m\u001b[0;34m[\u001b[0m\u001b[0;34m'accuracy'\u001b[0m\u001b[0;34m]\u001b[0m\u001b[0;34m)\u001b[0m\u001b[0;34m\u001b[0m\u001b[0;34m\u001b[0m\u001b[0m\n\u001b[0;32m----> 2\u001b[0;31m \u001b[0mmodel\u001b[0m\u001b[0;34m.\u001b[0m\u001b[0mfit\u001b[0m\u001b[0;34m(\u001b[0m\u001b[0mx_train\u001b[0m\u001b[0;34m,\u001b[0m \u001b[0my_train\u001b[0m\u001b[0;34m,\u001b[0m \u001b[0mepochs\u001b[0m\u001b[0;34m=\u001b[0m\u001b[0;36m5\u001b[0m\u001b[0;34m,\u001b[0m \u001b[0mbatch_size\u001b[0m\u001b[0;34m=\u001b[0m\u001b[0;36m32\u001b[0m\u001b[0;34m)\u001b[0m\u001b[0;34m\u001b[0m\u001b[0;34m\u001b[0m\u001b[0m\n\u001b[0m",
            "\u001b[0;32m/usr/local/lib/python3.10/dist-packages/keras/utils/traceback_utils.py\u001b[0m in \u001b[0;36merror_handler\u001b[0;34m(*args, **kwargs)\u001b[0m\n\u001b[1;32m     68\u001b[0m             \u001b[0;31m# To get the full stack trace, call:\u001b[0m\u001b[0;34m\u001b[0m\u001b[0;34m\u001b[0m\u001b[0m\n\u001b[1;32m     69\u001b[0m             \u001b[0;31m# `tf.debugging.disable_traceback_filtering()`\u001b[0m\u001b[0;34m\u001b[0m\u001b[0;34m\u001b[0m\u001b[0m\n\u001b[0;32m---> 70\u001b[0;31m             \u001b[0;32mraise\u001b[0m \u001b[0me\u001b[0m\u001b[0;34m.\u001b[0m\u001b[0mwith_traceback\u001b[0m\u001b[0;34m(\u001b[0m\u001b[0mfiltered_tb\u001b[0m\u001b[0;34m)\u001b[0m \u001b[0;32mfrom\u001b[0m \u001b[0;32mNone\u001b[0m\u001b[0;34m\u001b[0m\u001b[0;34m\u001b[0m\u001b[0m\n\u001b[0m\u001b[1;32m     71\u001b[0m         \u001b[0;32mfinally\u001b[0m\u001b[0;34m:\u001b[0m\u001b[0;34m\u001b[0m\u001b[0;34m\u001b[0m\u001b[0m\n\u001b[1;32m     72\u001b[0m             \u001b[0;32mdel\u001b[0m \u001b[0mfiltered_tb\u001b[0m\u001b[0;34m\u001b[0m\u001b[0;34m\u001b[0m\u001b[0m\n",
            "\u001b[0;32m/usr/local/lib/python3.10/dist-packages/tensorflow/python/eager/execute.py\u001b[0m in \u001b[0;36mquick_execute\u001b[0;34m(op_name, num_outputs, inputs, attrs, ctx, name)\u001b[0m\n\u001b[1;32m     50\u001b[0m   \u001b[0;32mtry\u001b[0m\u001b[0;34m:\u001b[0m\u001b[0;34m\u001b[0m\u001b[0;34m\u001b[0m\u001b[0m\n\u001b[1;32m     51\u001b[0m     \u001b[0mctx\u001b[0m\u001b[0;34m.\u001b[0m\u001b[0mensure_initialized\u001b[0m\u001b[0;34m(\u001b[0m\u001b[0;34m)\u001b[0m\u001b[0;34m\u001b[0m\u001b[0;34m\u001b[0m\u001b[0m\n\u001b[0;32m---> 52\u001b[0;31m     tensors = pywrap_tfe.TFE_Py_Execute(ctx._handle, device_name, op_name,\n\u001b[0m\u001b[1;32m     53\u001b[0m                                         inputs, attrs, num_outputs)\n\u001b[1;32m     54\u001b[0m   \u001b[0;32mexcept\u001b[0m \u001b[0mcore\u001b[0m\u001b[0;34m.\u001b[0m\u001b[0m_NotOkStatusException\u001b[0m \u001b[0;32mas\u001b[0m \u001b[0me\u001b[0m\u001b[0;34m:\u001b[0m\u001b[0;34m\u001b[0m\u001b[0;34m\u001b[0m\u001b[0m\n",
            "\u001b[0;31mInvalidArgumentError\u001b[0m: Graph execution error:\n\nDetected at node 'sparse_categorical_crossentropy/SparseSoftmaxCrossEntropyWithLogits/SparseSoftmaxCrossEntropyWithLogits' defined at (most recent call last):\n    File \"/usr/lib/python3.10/runpy.py\", line 196, in _run_module_as_main\n      return _run_code(code, main_globals, None,\n    File \"/usr/lib/python3.10/runpy.py\", line 86, in _run_code\n      exec(code, run_globals)\n    File \"/usr/local/lib/python3.10/dist-packages/ipykernel_launcher.py\", line 16, in <module>\n      app.launch_new_instance()\n    File \"/usr/local/lib/python3.10/dist-packages/traitlets/config/application.py\", line 992, in launch_instance\n      app.start()\n    File \"/usr/local/lib/python3.10/dist-packages/ipykernel/kernelapp.py\", line 619, in start\n      self.io_loop.start()\n    File \"/usr/local/lib/python3.10/dist-packages/tornado/platform/asyncio.py\", line 195, in start\n      self.asyncio_loop.run_forever()\n    File \"/usr/lib/python3.10/asyncio/base_events.py\", line 603, in run_forever\n      self._run_once()\n    File \"/usr/lib/python3.10/asyncio/base_events.py\", line 1909, in _run_once\n      handle._run()\n    File \"/usr/lib/python3.10/asyncio/events.py\", line 80, in _run\n      self._context.run(self._callback, *self._args)\n    File \"/usr/local/lib/python3.10/dist-packages/tornado/ioloop.py\", line 685, in <lambda>\n      lambda f: self._run_callback(functools.partial(callback, future))\n    File \"/usr/local/lib/python3.10/dist-packages/tornado/ioloop.py\", line 738, in _run_callback\n      ret = callback()\n    File \"/usr/local/lib/python3.10/dist-packages/tornado/gen.py\", line 825, in inner\n      self.ctx_run(self.run)\n    File \"/usr/local/lib/python3.10/dist-packages/tornado/gen.py\", line 786, in run\n      yielded = self.gen.send(value)\n    File \"/usr/local/lib/python3.10/dist-packages/ipykernel/kernelbase.py\", line 377, in dispatch_queue\n      yield self.process_one()\n    File \"/usr/local/lib/python3.10/dist-packages/tornado/gen.py\", line 250, in wrapper\n      runner = Runner(ctx_run, result, future, yielded)\n    File \"/usr/local/lib/python3.10/dist-packages/tornado/gen.py\", line 748, in __init__\n      self.ctx_run(self.run)\n    File \"/usr/local/lib/python3.10/dist-packages/tornado/gen.py\", line 786, in run\n      yielded = self.gen.send(value)\n    File \"/usr/local/lib/python3.10/dist-packages/ipykernel/kernelbase.py\", line 361, in process_one\n      yield gen.maybe_future(dispatch(*args))\n    File \"/usr/local/lib/python3.10/dist-packages/tornado/gen.py\", line 234, in wrapper\n      yielded = ctx_run(next, result)\n    File \"/usr/local/lib/python3.10/dist-packages/ipykernel/kernelbase.py\", line 261, in dispatch_shell\n      yield gen.maybe_future(handler(stream, idents, msg))\n    File \"/usr/local/lib/python3.10/dist-packages/tornado/gen.py\", line 234, in wrapper\n      yielded = ctx_run(next, result)\n    File \"/usr/local/lib/python3.10/dist-packages/ipykernel/kernelbase.py\", line 539, in execute_request\n      self.do_execute(\n    File \"/usr/local/lib/python3.10/dist-packages/tornado/gen.py\", line 234, in wrapper\n      yielded = ctx_run(next, result)\n    File \"/usr/local/lib/python3.10/dist-packages/ipykernel/ipkernel.py\", line 302, in do_execute\n      res = shell.run_cell(code, store_history=store_history, silent=silent)\n    File \"/usr/local/lib/python3.10/dist-packages/ipykernel/zmqshell.py\", line 539, in run_cell\n      return super(ZMQInteractiveShell, self).run_cell(*args, **kwargs)\n    File \"/usr/local/lib/python3.10/dist-packages/IPython/core/interactiveshell.py\", line 2975, in run_cell\n      result = self._run_cell(\n    File \"/usr/local/lib/python3.10/dist-packages/IPython/core/interactiveshell.py\", line 3030, in _run_cell\n      return runner(coro)\n    File \"/usr/local/lib/python3.10/dist-packages/IPython/core/async_helpers.py\", line 78, in _pseudo_sync_runner\n      coro.send(None)\n    File \"/usr/local/lib/python3.10/dist-packages/IPython/core/interactiveshell.py\", line 3257, in run_cell_async\n      has_raised = await self.run_ast_nodes(code_ast.body, cell_name,\n    File \"/usr/local/lib/python3.10/dist-packages/IPython/core/interactiveshell.py\", line 3473, in run_ast_nodes\n      if (await self.run_code(code, result,  async_=asy)):\n    File \"/usr/local/lib/python3.10/dist-packages/IPython/core/interactiveshell.py\", line 3553, in run_code\n      exec(code_obj, self.user_global_ns, self.user_ns)\n    File \"<ipython-input-42-6ae6814c5995>\", line 2, in <cell line: 2>\n      model.fit(x_train, y_train, epochs=5, batch_size=32)\n    File \"/usr/local/lib/python3.10/dist-packages/keras/utils/traceback_utils.py\", line 65, in error_handler\n      return fn(*args, **kwargs)\n    File \"/usr/local/lib/python3.10/dist-packages/keras/engine/training.py\", line 1685, in fit\n      tmp_logs = self.train_function(iterator)\n    File \"/usr/local/lib/python3.10/dist-packages/keras/engine/training.py\", line 1284, in train_function\n      return step_function(self, iterator)\n    File \"/usr/local/lib/python3.10/dist-packages/keras/engine/training.py\", line 1268, in step_function\n      outputs = model.distribute_strategy.run(run_step, args=(data,))\n    File \"/usr/local/lib/python3.10/dist-packages/keras/engine/training.py\", line 1249, in run_step\n      outputs = model.train_step(data)\n    File \"/usr/local/lib/python3.10/dist-packages/keras/engine/training.py\", line 1051, in train_step\n      loss = self.compute_loss(x, y, y_pred, sample_weight)\n    File \"/usr/local/lib/python3.10/dist-packages/keras/engine/training.py\", line 1109, in compute_loss\n      return self.compiled_loss(\n    File \"/usr/local/lib/python3.10/dist-packages/keras/engine/compile_utils.py\", line 265, in __call__\n      loss_value = loss_obj(y_t, y_p, sample_weight=sw)\n    File \"/usr/local/lib/python3.10/dist-packages/keras/losses.py\", line 142, in __call__\n      losses = call_fn(y_true, y_pred)\n    File \"/usr/local/lib/python3.10/dist-packages/keras/losses.py\", line 268, in call\n      return ag_fn(y_true, y_pred, **self._fn_kwargs)\n    File \"/usr/local/lib/python3.10/dist-packages/keras/losses.py\", line 2078, in sparse_categorical_crossentropy\n      return backend.sparse_categorical_crossentropy(\n    File \"/usr/local/lib/python3.10/dist-packages/keras/backend.py\", line 5660, in sparse_categorical_crossentropy\n      res = tf.nn.sparse_softmax_cross_entropy_with_logits(\nNode: 'sparse_categorical_crossentropy/SparseSoftmaxCrossEntropyWithLogits/SparseSoftmaxCrossEntropyWithLogits'\nlogits and labels must have the same first dimension, got logits shape [32,3] and labels shape [96]\n\t [[{{node sparse_categorical_crossentropy/SparseSoftmaxCrossEntropyWithLogits/SparseSoftmaxCrossEntropyWithLogits}}]] [Op:__inference_train_function_1229]"
          ]
        }
      ]
    },
    {
      "cell_type": "markdown",
      "source": [
        "**Now that the model is trained let's use it to make prediction**"
      ],
      "metadata": {
        "id": "FPMghO-anTXe"
      }
    },
    {
      "cell_type": "code",
      "source": [
        "predictions= model.predict(x_test)\n",
        "y_pred = np.argmax(predictions,axis=-1)\n",
        "print('test accuracy', np.sum(y_pred==y_test)/len(y_test))"
      ],
      "metadata": {
        "id": "cBd1znVBnbJ5",
        "colab": {
          "base_uri": "https://localhost:8080/"
        },
        "outputId": "aba175d0-1b6e-4d6a-a5f2-03a0854409ab"
      },
      "execution_count": 43,
      "outputs": [
        {
          "output_type": "stream",
          "name": "stdout",
          "text": [
            "2/2 [==============================] - 0s 6ms/step\n",
            "test accuracy 0.35185185185185186\n"
          ]
        }
      ]
    },
    {
      "cell_type": "markdown",
      "source": [
        "**Let's add one more hidden layer with 100 neurons to our neural network model**"
      ],
      "metadata": {
        "id": "0OZo0ZDhohdL"
      }
    },
    {
      "cell_type": "code",
      "source": [
        "predictions\n",
        "model = tf.keras.Sequential()\n",
        "model.add(tf.keras.layers.InputLayer(input_shape=(13)))\n",
        "model.add(tf.keras.layers.Dense(units=100, activation=tf.nn.relu))\n",
        "model.add(tf.keras.layers.Dense(units=3,activation=tf.nn.softmax))"
      ],
      "metadata": {
        "id": "HSEEvUn7rak7"
      },
      "execution_count": 44,
      "outputs": []
    },
    {
      "cell_type": "markdown",
      "source": [
        "**Now let's re-train the new model and test its accuracy**"
      ],
      "metadata": {
        "id": "5rgxF3FU6XSq"
      }
    },
    {
      "cell_type": "code",
      "source": [
        "model.compile(optimizer=tf.keras.optimizers.Adam(0.001), loss='categorical_crossentropy', metrics=['accuracy'])\n",
        "model.fit(x_train, y_train, epochs=100, batch_size=32)"
      ],
      "metadata": {
        "id": "5NEe1c9C-_QZ",
        "colab": {
          "base_uri": "https://localhost:8080/"
        },
        "outputId": "6dd2d13f-47b1-411d-b8a3-8bdcefdecb72"
      },
      "execution_count": 45,
      "outputs": [
        {
          "output_type": "stream",
          "name": "stdout",
          "text": [
            "Epoch 1/100\n",
            "4/4 [==============================] - 2s 6ms/step - loss: 32.7813 - accuracy: 0.3468\n",
            "Epoch 2/100\n",
            "4/4 [==============================] - 0s 4ms/step - loss: 20.7935 - accuracy: 0.3468\n",
            "Epoch 3/100\n",
            "4/4 [==============================] - 0s 5ms/step - loss: 9.4151 - accuracy: 0.5081\n",
            "Epoch 4/100\n",
            "4/4 [==============================] - 0s 5ms/step - loss: 4.2149 - accuracy: 0.5242\n",
            "Epoch 5/100\n",
            "4/4 [==============================] - 0s 5ms/step - loss: 4.4936 - accuracy: 0.5242\n",
            "Epoch 6/100\n",
            "4/4 [==============================] - 0s 6ms/step - loss: 1.5270 - accuracy: 0.6935\n",
            "Epoch 7/100\n",
            "4/4 [==============================] - 0s 6ms/step - loss: 3.0602 - accuracy: 0.5726\n",
            "Epoch 8/100\n",
            "4/4 [==============================] - 0s 5ms/step - loss: 1.9170 - accuracy: 0.6371\n",
            "Epoch 9/100\n",
            "4/4 [==============================] - 0s 5ms/step - loss: 1.5493 - accuracy: 0.6694\n",
            "Epoch 10/100\n",
            "4/4 [==============================] - 0s 5ms/step - loss: 1.4966 - accuracy: 0.6371\n",
            "Epoch 11/100\n",
            "4/4 [==============================] - 0s 5ms/step - loss: 1.3252 - accuracy: 0.6694\n",
            "Epoch 12/100\n",
            "4/4 [==============================] - 0s 5ms/step - loss: 1.3754 - accuracy: 0.6532\n",
            "Epoch 13/100\n",
            "4/4 [==============================] - 0s 5ms/step - loss: 0.8925 - accuracy: 0.6855\n",
            "Epoch 14/100\n",
            "4/4 [==============================] - 0s 5ms/step - loss: 1.0331 - accuracy: 0.7258\n",
            "Epoch 15/100\n",
            "4/4 [==============================] - 0s 7ms/step - loss: 0.8962 - accuracy: 0.6935\n",
            "Epoch 16/100\n",
            "4/4 [==============================] - 0s 5ms/step - loss: 0.8715 - accuracy: 0.6694\n",
            "Epoch 17/100\n",
            "4/4 [==============================] - 0s 5ms/step - loss: 0.7549 - accuracy: 0.7016\n",
            "Epoch 18/100\n",
            "4/4 [==============================] - 0s 5ms/step - loss: 0.6987 - accuracy: 0.7339\n",
            "Epoch 19/100\n",
            "4/4 [==============================] - 0s 6ms/step - loss: 0.6589 - accuracy: 0.7419\n",
            "Epoch 20/100\n",
            "4/4 [==============================] - 0s 6ms/step - loss: 0.6142 - accuracy: 0.7742\n",
            "Epoch 21/100\n",
            "4/4 [==============================] - 0s 6ms/step - loss: 0.5374 - accuracy: 0.7823\n",
            "Epoch 22/100\n",
            "4/4 [==============================] - 0s 5ms/step - loss: 0.5513 - accuracy: 0.7984\n",
            "Epoch 23/100\n",
            "4/4 [==============================] - 0s 5ms/step - loss: 0.5550 - accuracy: 0.7984\n",
            "Epoch 24/100\n",
            "4/4 [==============================] - 0s 5ms/step - loss: 0.4874 - accuracy: 0.8065\n",
            "Epoch 25/100\n",
            "4/4 [==============================] - 0s 5ms/step - loss: 0.4741 - accuracy: 0.8145\n",
            "Epoch 26/100\n",
            "4/4 [==============================] - 0s 6ms/step - loss: 0.4806 - accuracy: 0.8145\n",
            "Epoch 27/100\n",
            "4/4 [==============================] - 0s 5ms/step - loss: 0.5000 - accuracy: 0.8226\n",
            "Epoch 28/100\n",
            "4/4 [==============================] - 0s 5ms/step - loss: 0.5287 - accuracy: 0.7984\n",
            "Epoch 29/100\n",
            "4/4 [==============================] - 0s 5ms/step - loss: 0.4839 - accuracy: 0.8226\n",
            "Epoch 30/100\n",
            "4/4 [==============================] - 0s 5ms/step - loss: 0.5374 - accuracy: 0.7823\n",
            "Epoch 31/100\n",
            "4/4 [==============================] - 0s 5ms/step - loss: 0.4845 - accuracy: 0.8710\n",
            "Epoch 32/100\n",
            "4/4 [==============================] - 0s 5ms/step - loss: 0.4424 - accuracy: 0.8710\n",
            "Epoch 33/100\n",
            "4/4 [==============================] - 0s 5ms/step - loss: 0.4019 - accuracy: 0.8710\n",
            "Epoch 34/100\n",
            "4/4 [==============================] - 0s 5ms/step - loss: 0.4577 - accuracy: 0.8468\n",
            "Epoch 35/100\n",
            "4/4 [==============================] - 0s 5ms/step - loss: 0.4140 - accuracy: 0.8548\n",
            "Epoch 36/100\n",
            "4/4 [==============================] - 0s 6ms/step - loss: 0.4030 - accuracy: 0.8548\n",
            "Epoch 37/100\n",
            "4/4 [==============================] - 0s 4ms/step - loss: 0.4777 - accuracy: 0.8387\n",
            "Epoch 38/100\n",
            "4/4 [==============================] - 0s 7ms/step - loss: 0.4148 - accuracy: 0.8710\n",
            "Epoch 39/100\n",
            "4/4 [==============================] - 0s 6ms/step - loss: 0.4305 - accuracy: 0.8468\n",
            "Epoch 40/100\n",
            "4/4 [==============================] - 0s 5ms/step - loss: 0.3817 - accuracy: 0.8548\n",
            "Epoch 41/100\n",
            "4/4 [==============================] - 0s 5ms/step - loss: 0.3428 - accuracy: 0.8790\n",
            "Epoch 42/100\n",
            "4/4 [==============================] - 0s 5ms/step - loss: 0.3689 - accuracy: 0.8871\n",
            "Epoch 43/100\n",
            "4/4 [==============================] - 0s 5ms/step - loss: 0.3312 - accuracy: 0.8871\n",
            "Epoch 44/100\n",
            "4/4 [==============================] - 0s 6ms/step - loss: 0.3867 - accuracy: 0.8468\n",
            "Epoch 45/100\n",
            "4/4 [==============================] - 0s 6ms/step - loss: 0.3272 - accuracy: 0.8790\n",
            "Epoch 46/100\n",
            "4/4 [==============================] - 0s 5ms/step - loss: 0.3073 - accuracy: 0.9032\n",
            "Epoch 47/100\n",
            "4/4 [==============================] - 0s 4ms/step - loss: 0.3158 - accuracy: 0.8871\n",
            "Epoch 48/100\n",
            "4/4 [==============================] - 0s 5ms/step - loss: 0.3074 - accuracy: 0.9113\n",
            "Epoch 49/100\n",
            "4/4 [==============================] - 0s 5ms/step - loss: 0.3051 - accuracy: 0.9194\n",
            "Epoch 50/100\n",
            "4/4 [==============================] - 0s 4ms/step - loss: 0.3046 - accuracy: 0.8790\n",
            "Epoch 51/100\n",
            "4/4 [==============================] - 0s 4ms/step - loss: 0.3062 - accuracy: 0.8952\n",
            "Epoch 52/100\n",
            "4/4 [==============================] - 0s 5ms/step - loss: 0.3333 - accuracy: 0.8629\n",
            "Epoch 53/100\n",
            "4/4 [==============================] - 0s 6ms/step - loss: 0.3161 - accuracy: 0.8952\n",
            "Epoch 54/100\n",
            "4/4 [==============================] - 0s 5ms/step - loss: 0.2983 - accuracy: 0.9032\n",
            "Epoch 55/100\n",
            "4/4 [==============================] - 0s 6ms/step - loss: 0.3017 - accuracy: 0.8871\n",
            "Epoch 56/100\n",
            "4/4 [==============================] - 0s 6ms/step - loss: 0.2747 - accuracy: 0.9274\n",
            "Epoch 57/100\n",
            "4/4 [==============================] - 0s 7ms/step - loss: 0.2962 - accuracy: 0.9113\n",
            "Epoch 58/100\n",
            "4/4 [==============================] - 0s 7ms/step - loss: 0.3162 - accuracy: 0.8710\n",
            "Epoch 59/100\n",
            "4/4 [==============================] - 0s 5ms/step - loss: 0.3132 - accuracy: 0.8952\n",
            "Epoch 60/100\n",
            "4/4 [==============================] - 0s 5ms/step - loss: 0.3698 - accuracy: 0.8790\n",
            "Epoch 61/100\n",
            "4/4 [==============================] - 0s 6ms/step - loss: 0.3490 - accuracy: 0.9113\n",
            "Epoch 62/100\n",
            "4/4 [==============================] - 0s 7ms/step - loss: 0.2655 - accuracy: 0.8952\n",
            "Epoch 63/100\n",
            "4/4 [==============================] - 0s 5ms/step - loss: 0.3093 - accuracy: 0.8871\n",
            "Epoch 64/100\n",
            "4/4 [==============================] - 0s 4ms/step - loss: 0.2676 - accuracy: 0.9113\n",
            "Epoch 65/100\n",
            "4/4 [==============================] - 0s 5ms/step - loss: 0.2694 - accuracy: 0.8871\n",
            "Epoch 66/100\n",
            "4/4 [==============================] - 0s 4ms/step - loss: 0.2988 - accuracy: 0.8952\n",
            "Epoch 67/100\n",
            "4/4 [==============================] - 0s 4ms/step - loss: 0.2878 - accuracy: 0.9032\n",
            "Epoch 68/100\n",
            "4/4 [==============================] - 0s 5ms/step - loss: 0.2557 - accuracy: 0.9032\n",
            "Epoch 69/100\n",
            "4/4 [==============================] - 0s 4ms/step - loss: 0.2446 - accuracy: 0.9032\n",
            "Epoch 70/100\n",
            "4/4 [==============================] - 0s 4ms/step - loss: 0.2580 - accuracy: 0.9274\n",
            "Epoch 71/100\n",
            "4/4 [==============================] - 0s 4ms/step - loss: 0.2968 - accuracy: 0.8710\n",
            "Epoch 72/100\n",
            "4/4 [==============================] - 0s 4ms/step - loss: 0.2716 - accuracy: 0.8871\n",
            "Epoch 73/100\n",
            "4/4 [==============================] - 0s 4ms/step - loss: 0.2630 - accuracy: 0.9032\n",
            "Epoch 74/100\n",
            "4/4 [==============================] - 0s 4ms/step - loss: 0.2857 - accuracy: 0.8952\n",
            "Epoch 75/100\n",
            "4/4 [==============================] - 0s 4ms/step - loss: 0.3096 - accuracy: 0.9355\n",
            "Epoch 76/100\n",
            "4/4 [==============================] - 0s 5ms/step - loss: 0.3421 - accuracy: 0.8629\n",
            "Epoch 77/100\n",
            "4/4 [==============================] - 0s 4ms/step - loss: 0.2634 - accuracy: 0.9274\n",
            "Epoch 78/100\n",
            "4/4 [==============================] - 0s 5ms/step - loss: 0.2476 - accuracy: 0.9194\n",
            "Epoch 79/100\n",
            "4/4 [==============================] - 0s 4ms/step - loss: 0.2315 - accuracy: 0.9194\n",
            "Epoch 80/100\n",
            "4/4 [==============================] - 0s 5ms/step - loss: 0.2305 - accuracy: 0.9355\n",
            "Epoch 81/100\n",
            "4/4 [==============================] - 0s 6ms/step - loss: 0.2060 - accuracy: 0.9355\n",
            "Epoch 82/100\n",
            "4/4 [==============================] - 0s 4ms/step - loss: 0.2263 - accuracy: 0.9355\n",
            "Epoch 83/100\n",
            "4/4 [==============================] - 0s 5ms/step - loss: 0.2068 - accuracy: 0.9435\n",
            "Epoch 84/100\n",
            "4/4 [==============================] - 0s 7ms/step - loss: 0.2260 - accuracy: 0.9355\n",
            "Epoch 85/100\n",
            "4/4 [==============================] - 0s 4ms/step - loss: 0.2260 - accuracy: 0.9194\n",
            "Epoch 86/100\n",
            "4/4 [==============================] - 0s 4ms/step - loss: 0.2207 - accuracy: 0.9274\n",
            "Epoch 87/100\n",
            "4/4 [==============================] - 0s 4ms/step - loss: 0.2572 - accuracy: 0.8952\n",
            "Epoch 88/100\n",
            "4/4 [==============================] - 0s 4ms/step - loss: 0.2528 - accuracy: 0.8952\n",
            "Epoch 89/100\n",
            "4/4 [==============================] - 0s 5ms/step - loss: 0.2030 - accuracy: 0.9435\n",
            "Epoch 90/100\n",
            "4/4 [==============================] - 0s 4ms/step - loss: 0.2078 - accuracy: 0.9435\n",
            "Epoch 91/100\n",
            "4/4 [==============================] - 0s 5ms/step - loss: 0.3334 - accuracy: 0.8871\n",
            "Epoch 92/100\n",
            "4/4 [==============================] - 0s 5ms/step - loss: 0.2809 - accuracy: 0.9355\n",
            "Epoch 93/100\n",
            "4/4 [==============================] - 0s 7ms/step - loss: 0.2274 - accuracy: 0.9355\n",
            "Epoch 94/100\n",
            "4/4 [==============================] - 0s 5ms/step - loss: 0.2084 - accuracy: 0.9435\n",
            "Epoch 95/100\n",
            "4/4 [==============================] - 0s 5ms/step - loss: 0.2050 - accuracy: 0.9355\n",
            "Epoch 96/100\n",
            "4/4 [==============================] - 0s 5ms/step - loss: 0.2197 - accuracy: 0.9194\n",
            "Epoch 97/100\n",
            "4/4 [==============================] - 0s 5ms/step - loss: 0.2126 - accuracy: 0.9355\n",
            "Epoch 98/100\n",
            "4/4 [==============================] - 0s 4ms/step - loss: 0.2049 - accuracy: 0.9516\n",
            "Epoch 99/100\n",
            "4/4 [==============================] - 0s 5ms/step - loss: 0.1909 - accuracy: 0.9516\n",
            "Epoch 100/100\n",
            "4/4 [==============================] - 0s 4ms/step - loss: 0.2021 - accuracy: 0.9435\n"
          ]
        },
        {
          "output_type": "execute_result",
          "data": {
            "text/plain": [
              "<keras.callbacks.History at 0x7f335fc28550>"
            ]
          },
          "metadata": {},
          "execution_count": 45
        }
      ]
    },
    {
      "cell_type": "code",
      "source": [
        "predictions= model.predict(x_test)\n",
        "y_pred = np.argmax(predictions,axis=-1)\n",
        "print('test accuracy', np.sum(y_pred==y_test)/len(y_test))"
      ],
      "metadata": {
        "id": "NOY_u9gsp6F3",
        "colab": {
          "base_uri": "https://localhost:8080/"
        },
        "outputId": "b0beac96-b8fb-4033-e692-b049a7800e35"
      },
      "execution_count": 46,
      "outputs": [
        {
          "output_type": "stream",
          "name": "stdout",
          "text": [
            "2/2 [==============================] - 0s 5ms/step\n",
            "test accuracy 0.9444444444444444\n"
          ]
        }
      ]
    },
    {
      "cell_type": "markdown",
      "source": [
        "**SO far all models we focused on were supervised. In this session, we will learn our last supervised model and move on to an unsupervised one. We do not introduce unsupervised deep learning models in this course. My hope is that you get familiar with them in the DSP course!**"
      ],
      "metadata": {
        "id": "JV_lThHP6tl3"
      }
    },
    {
      "cell_type": "markdown",
      "source": [
        "**Let's start with K- Nearest Neighbor. Let's do everything in one block of code this time.** For more details on the KNN in ScikitLearn, you can take a look at https://scikit-learn.org/stable/modules/generated/sklearn.neighbors.KNeighborsClassifier.html"
      ],
      "metadata": {
        "id": "mZ3WtthH7V7k"
      }
    },
    {
      "cell_type": "code",
      "source": [
        "# KNN Model\n",
        "import numpy as np\n",
        "import pandas as pd\n",
        "import sklearn\n",
        "from sklearn.neighbors import KNeighborsClassifier\n",
        "from sklearn.model_selection import train_test_split # Import train_test_split function\n",
        "from sklearn import metrics #Import scikit-learn metrics module for accuracy calculation\n",
        "\n",
        "data = pd.read_csv(\"/content/drive/MyDrive/Colab Notebooks/wine.csv\")\n",
        "features = [\"Alcohol\", \"Malicacid\", \"Ash\", \"Alcalinity\", \"Magnesium\",\t\"Totalphenols\",\t\"Flavanoids\",\t\"Nonflavanoid\",\t\"Proanthocyanins\", \"Colorintensity\",\t\"Hue\",\t\"OD\",\t\"Proline\"]\n",
        "X = data[features] #feature variable\n",
        "y = data[\"Class\"] #target variable\n",
        "X_train, X_test, y_train, y_test = train_test_split(X, y, test_size=0.3, random_state=1) # 70% training and 30% test\n",
        "\n",
        "clf = KNeighborsClassifier(n_neighbors=5)\n",
        "\n",
        "clf = clf.fit(X_train, y_train)\n",
        "\n",
        "y_pred = clf.predict(X_test)\n",
        "\n",
        "print(\"Accuracy:\",metrics.accuracy_score(y_test, y_pred))\n",
        "print(\"Precision:\", metrics.precision_score(y_test, y_pred, average='macro'))\n",
        "print(\"Recall:\", metrics.recall_score(y_test, y_pred, average='macro'))\n",
        "print(\"F1_score:\", metrics.f1_score(y_test, y_pred, average='macro'))\n"
      ],
      "metadata": {
        "id": "RKgzSwRu7ZBO",
        "colab": {
          "base_uri": "https://localhost:8080/"
        },
        "outputId": "3971a211-b96e-4d26-8e61-deae10266352"
      },
      "execution_count": 47,
      "outputs": [
        {
          "output_type": "stream",
          "name": "stdout",
          "text": [
            "Accuracy: 0.7037037037037037\n",
            "Precision: 0.653763030765319\n",
            "Recall: 0.653763030765319\n",
            "F1_score: 0.653763030765319\n"
          ]
        }
      ]
    },
    {
      "cell_type": "markdown",
      "source": [
        "**Let's go back an increase the number of neighbors from 3 to 7 to see what happens.**"
      ],
      "metadata": {
        "id": "UtQtA2Gx7xqb"
      }
    },
    {
      "cell_type": "markdown",
      "source": [
        "***I test, until now the 5 neighbor has the highest accuracy***"
      ],
      "metadata": {
        "id": "aAMTyNkblQ0j"
      }
    },
    {
      "cell_type": "markdown",
      "source": [
        "**Now ready for some unsupervised learning? Let's make a K-Means Cluster model. Can you tell what features we need for clustering?**"
      ],
      "metadata": {
        "id": "434mDMls78wN"
      }
    },
    {
      "cell_type": "code",
      "source": [
        "from sklearn.cluster import KMeans\n",
        "data = pd.read_csv(\"/content/drive/MyDrive/Colab Notebooks/wine.csv\")\n",
        "features = [\"Alcohol\", \"Malicacid\", \"Ash\", \"Alcalinity\", \"Magnesium\",\t\"Totalphenols\",\t\"Flavanoids\",\t\"Nonflavanoid\",\t\"Proanthocyanins\", \"Colorintensity\",\t\"Hue\",\t\"OD\",\t\"Proline\"]\n",
        "X = data[features] # Features"
      ],
      "metadata": {
        "id": "ZLZFFZd27YsU"
      },
      "execution_count": 48,
      "outputs": []
    },
    {
      "cell_type": "markdown",
      "source": [
        "**Do we need to include the target variable we used to have in supervised models?**\n",
        "***we don't need target because it's unsupervised***"
      ],
      "metadata": {
        "id": "tOFmM_QV8IrT"
      }
    },
    {
      "cell_type": "markdown",
      "source": [
        "**Let's define an unsupervised model and name it kmeans_model with 7 clusters.**"
      ],
      "metadata": {
        "id": "F93DRrL48U0h"
      }
    },
    {
      "cell_type": "code",
      "source": [
        "kmeans_model = KMeans(n_clusters=5, random_state=0, n_init=\"auto\")"
      ],
      "metadata": {
        "id": "9fsgStV98Kzq"
      },
      "execution_count": 49,
      "outputs": []
    },
    {
      "cell_type": "markdown",
      "source": [
        "**Let's train the model with the algorithm we discussed today and see the labels assigned to each sample int the training data as well as the centroids**"
      ],
      "metadata": {
        "id": "Omne-0yG8ixR"
      }
    },
    {
      "cell_type": "code",
      "source": [
        "kmeans_model = kmeans_model.fit(X)\n",
        "kmeans_model.labels_"
      ],
      "metadata": {
        "id": "s27aEwJz8Kr7",
        "colab": {
          "base_uri": "https://localhost:8080/"
        },
        "outputId": "07d0ed81-9d3d-4e7a-964f-d628debfad6a"
      },
      "execution_count": 50,
      "outputs": [
        {
          "output_type": "execute_result",
          "data": {
            "text/plain": [
              "array([1, 1, 4, 3, 0, 3, 4, 4, 1, 1, 3, 4, 4, 4, 3, 4, 4, 4, 3, 1, 0, 0,\n",
              "       1, 1, 1, 1, 4, 4, 1, 1, 4, 3, 1, 4, 1, 1, 1, 1, 1, 0, 0, 1, 1, 0,\n",
              "       1, 1, 1, 1, 1, 4, 4, 4, 4, 4, 1, 4, 1, 4, 4, 2, 0, 2, 0, 2, 2, 0,\n",
              "       2, 2, 0, 0, 1, 2, 2, 1, 1, 2, 2, 2, 0, 2, 2, 0, 0, 2, 2, 2, 2, 0,\n",
              "       0, 0, 2, 2, 2, 2, 2, 1, 0, 2, 0, 2, 0, 0, 2, 2, 0, 2, 2, 2, 2, 0,\n",
              "       0, 2, 0, 2, 2, 2, 2, 2, 2, 0, 0, 2, 2, 2, 2, 2, 2, 2, 2, 0, 0, 2,\n",
              "       0, 0, 0, 0, 0, 2, 0, 0, 0, 0, 2, 2, 1, 1, 2, 0, 0, 2, 2, 2, 2, 0,\n",
              "       0, 0, 2, 1, 0, 0, 2, 0, 0, 0, 0, 2, 0, 0, 0, 0, 2, 2, 0, 0, 0, 1,\n",
              "       1, 0], dtype=int32)"
            ]
          },
          "metadata": {},
          "execution_count": 50
        }
      ]
    },
    {
      "cell_type": "code",
      "source": [
        "kmeans_model.cluster_centers_"
      ],
      "metadata": {
        "id": "eOB9HNTp8Kip",
        "colab": {
          "base_uri": "https://localhost:8080/"
        },
        "outputId": "55a21073-13a4-4c5a-bced-f98ab5701cbc"
      },
      "execution_count": 51,
      "outputs": [
        {
          "output_type": "execute_result",
          "data": {
            "text/plain": [
              "array([[1.28531579e+01, 2.63701754e+00, 2.38017544e+00, 2.02228070e+01,\n",
              "        9.97368421e+01, 2.03894737e+00, 1.43894737e+00, 4.04210526e-01,\n",
              "        1.44736842e+00, 5.50421053e+00, 8.75087719e-01, 2.29052632e+00,\n",
              "        6.63052632e+02],\n",
              "       [1.34208571e+01, 2.17571429e+00, 2.39228571e+00, 1.83600000e+01,\n",
              "        1.08114286e+02, 2.55571429e+00, 2.44685714e+00, 3.04000000e-01,\n",
              "        1.73228571e+00, 5.08857143e+00, 9.86742857e-01, 2.99571429e+00,\n",
              "        9.68228571e+02],\n",
              "       [1.25047458e+01, 2.39644068e+00, 2.28254237e+00, 2.06406780e+01,\n",
              "        9.20847458e+01, 2.09220339e+00, 1.84508475e+00, 3.84067797e-01,\n",
              "        1.45525424e+00, 4.05203388e+00, 9.53050847e-01, 2.51542373e+00,\n",
              "        4.39457627e+02],\n",
              "       [1.41366667e+01, 1.83166667e+00, 2.41166667e+00, 1.62666667e+01,\n",
              "        1.07666667e+02, 3.25500000e+00, 3.49333333e+00, 2.71666667e-01,\n",
              "        2.21666667e+00, 7.23333333e+00, 1.11333333e+00, 3.02833333e+00,\n",
              "        1.53033333e+03],\n",
              "       [1.37690476e+01, 1.76333333e+00, 2.50952381e+00, 1.71142857e+01,\n",
              "        1.05047619e+02, 2.85190476e+00, 3.03476190e+00, 3.06666667e-01,\n",
              "        1.94714286e+00, 6.00142857e+00, 1.10000000e+00, 2.99476190e+00,\n",
              "        1.24547619e+03]])"
            ]
          },
          "metadata": {},
          "execution_count": 51
        }
      ]
    },
    {
      "cell_type": "markdown",
      "source": [
        "**Interestingly, we can use these labels to make predictions as well! To do this, we can use the \"\"predict\" function. See https://scikit-learn.org/stable/modules/generated/sklearn.cluster.KMeans.html**\n",
        "\n"
      ],
      "metadata": {
        "id": "GcDSNL0M82L_"
      }
    },
    {
      "cell_type": "markdown",
      "source": [
        "**This function, predicts the closest cluster each sample in X belongs to.**\n",
        "Let's do this for the first three samples in our test dataset."
      ],
      "metadata": {
        "id": "VfPdiu_q9Bje"
      }
    },
    {
      "cell_type": "code",
      "source": [
        "kmeans_model.predict(X_test.head(3))"
      ],
      "metadata": {
        "id": "Lllizo2-849q",
        "colab": {
          "base_uri": "https://localhost:8080/"
        },
        "outputId": "b27e499b-e314-4342-d90e-a4509abb73e4"
      },
      "execution_count": 52,
      "outputs": [
        {
          "output_type": "execute_result",
          "data": {
            "text/plain": [
              "array([0, 2, 1], dtype=int32)"
            ]
          },
          "metadata": {},
          "execution_count": 52
        }
      ]
    }
  ]
}